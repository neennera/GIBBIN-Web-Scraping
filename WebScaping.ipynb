{
  "nbformat": 4,
  "nbformat_minor": 0,
  "metadata": {
    "colab": {
      "provenance": [],
      "collapsed_sections": [
        "SE558Gp2ZK22",
        "frjy5dcCLlJ2"
      ],
      "authorship_tag": "ABX9TyMXtkEZ2PQySwSLjMEm72nN",
      "include_colab_link": true
    },
    "kernelspec": {
      "name": "python3",
      "display_name": "Python 3"
    },
    "language_info": {
      "name": "python"
    }
  },
  "cells": [
    {
      "cell_type": "markdown",
      "metadata": {
        "id": "view-in-github",
        "colab_type": "text"
      },
      "source": [
        "<a href=\"https://colab.research.google.com/github/neennera/GIBBIN-Web-Scraping/blob/main/WebScaping.ipynb\" target=\"_parent\"><img src=\"https://colab.research.google.com/assets/colab-badge.svg\" alt=\"Open In Colab\"/></a>"
      ]
    },
    {
      "cell_type": "markdown",
      "source": [
        "\n",
        "\n",
        "---\n",
        "\n"
      ],
      "metadata": {
        "id": "yCIl1PYTTpWt"
      }
    },
    {
      "cell_type": "markdown",
      "source": [
        "# Open Chrome using Selenium"
      ],
      "metadata": {
        "id": "7UzV4SFGYy5f"
      }
    },
    {
      "cell_type": "code",
      "source": [
        "#Set up Chrome Driver\n",
        "!pip install selenium\n",
        "!apt-get update # to update ubuntu to correctly run apt install\n",
        "!apt install chromium-chromedriver\n",
        "!cp /usr/lib/chromium-browser/chromedriver /usr/bin\n",
        "import sys\n",
        "sys.path.insert(0,'/usr/lib/chromium-browser/chromedriver')"
      ],
      "metadata": {
        "id": "TE_E8leTXfr-",
        "colab": {
          "base_uri": "https://localhost:8080/"
        },
        "outputId": "94f8b8f2-40a9-47c3-b2f6-7c4b9fcdf6f5"
      },
      "execution_count": 147,
      "outputs": [
        {
          "output_type": "stream",
          "name": "stdout",
          "text": [
            "Looking in indexes: https://pypi.org/simple, https://us-python.pkg.dev/colab-wheels/public/simple/\n",
            "Requirement already satisfied: selenium in /usr/local/lib/python3.8/dist-packages (4.7.2)\n",
            "Requirement already satisfied: trio-websocket~=0.9 in /usr/local/lib/python3.8/dist-packages (from selenium) (0.9.2)\n",
            "Requirement already satisfied: certifi>=2021.10.8 in /usr/local/lib/python3.8/dist-packages (from selenium) (2022.12.7)\n",
            "Requirement already satisfied: urllib3[socks]~=1.26 in /usr/local/lib/python3.8/dist-packages (from selenium) (1.26.13)\n",
            "Requirement already satisfied: trio~=0.17 in /usr/local/lib/python3.8/dist-packages (from selenium) (0.22.0)\n",
            "Requirement already satisfied: attrs>=19.2.0 in /usr/local/lib/python3.8/dist-packages (from trio~=0.17->selenium) (22.2.0)\n",
            "Requirement already satisfied: sniffio in /usr/local/lib/python3.8/dist-packages (from trio~=0.17->selenium) (1.3.0)\n",
            "Requirement already satisfied: async-generator>=1.9 in /usr/local/lib/python3.8/dist-packages (from trio~=0.17->selenium) (1.10)\n",
            "Requirement already satisfied: outcome in /usr/local/lib/python3.8/dist-packages (from trio~=0.17->selenium) (1.2.0)\n",
            "Requirement already satisfied: idna in /usr/local/lib/python3.8/dist-packages (from trio~=0.17->selenium) (2.10)\n",
            "Requirement already satisfied: exceptiongroup>=1.0.0rc9 in /usr/local/lib/python3.8/dist-packages (from trio~=0.17->selenium) (1.1.0)\n",
            "Requirement already satisfied: sortedcontainers in /usr/local/lib/python3.8/dist-packages (from trio~=0.17->selenium) (2.4.0)\n",
            "Requirement already satisfied: wsproto>=0.14 in /usr/local/lib/python3.8/dist-packages (from trio-websocket~=0.9->selenium) (1.2.0)\n",
            "Requirement already satisfied: PySocks!=1.5.7,<2.0,>=1.5.6 in /usr/local/lib/python3.8/dist-packages (from urllib3[socks]~=1.26->selenium) (1.7.1)\n",
            "Requirement already satisfied: h11<1,>=0.9.0 in /usr/local/lib/python3.8/dist-packages (from wsproto>=0.14->trio-websocket~=0.9->selenium) (0.14.0)\n",
            "Hit:1 https://cloud.r-project.org/bin/linux/ubuntu bionic-cran40/ InRelease\n",
            "Hit:2 http://archive.ubuntu.com/ubuntu bionic InRelease\n",
            "Hit:3 http://security.ubuntu.com/ubuntu bionic-security InRelease\n",
            "Ign:4 https://developer.download.nvidia.com/compute/machine-learning/repos/ubuntu1804/x86_64  InRelease\n",
            "Hit:5 https://developer.download.nvidia.com/compute/cuda/repos/ubuntu1804/x86_64  InRelease\n",
            "Hit:6 https://developer.download.nvidia.com/compute/machine-learning/repos/ubuntu1804/x86_64  Release\n",
            "Hit:7 http://archive.ubuntu.com/ubuntu bionic-updates InRelease\n",
            "Hit:8 http://ppa.launchpad.net/c2d4u.team/c2d4u4.0+/ubuntu bionic InRelease\n",
            "Hit:9 http://archive.ubuntu.com/ubuntu bionic-backports InRelease\n",
            "Hit:10 http://ppa.launchpad.net/cran/libgit2/ubuntu bionic InRelease\n",
            "Hit:11 http://ppa.launchpad.net/deadsnakes/ppa/ubuntu bionic InRelease\n",
            "Hit:13 http://ppa.launchpad.net/graphics-drivers/ppa/ubuntu bionic InRelease\n",
            "Reading package lists... Done\n",
            "Reading package lists... Done\n",
            "Building dependency tree       \n",
            "Reading state information... Done\n",
            "chromium-chromedriver is already the newest version (108.0.5359.71-0ubuntu0.18.04.5).\n",
            "The following package was automatically installed and is no longer required:\n",
            "  libnvidia-common-460\n",
            "Use 'apt autoremove' to remove it.\n",
            "0 upgraded, 0 newly installed, 0 to remove and 27 not upgraded.\n",
            "cp: '/usr/lib/chromium-browser/chromedriver' and '/usr/bin/chromedriver' are the same file\n"
          ]
        }
      ]
    },
    {
      "cell_type": "code",
      "source": [
        "#ระบุตำแหน่งของเว็บปลายทาง\n",
        "destination = \"https://esc.kmutt.ac.th/index.php\""
      ],
      "metadata": {
        "id": "K7Mc6kikLK3J"
      },
      "execution_count": 148,
      "outputs": []
    },
    {
      "cell_type": "code",
      "source": [
        "#Open Chrome\n",
        "from selenium import webdriver\n",
        "chrome_options = webdriver.ChromeOptions()\n",
        "chrome_options.add_argument('--headless')\n",
        "chrome_options.add_argument('--no-sandbox')\n",
        "chrome_options.add_argument('--disable-dev-shm-usage')\n",
        "wd = webdriver.Chrome('chromedriver',options=chrome_options)"
      ],
      "metadata": {
        "id": "haYU2moQX9Ev"
      },
      "execution_count": 149,
      "outputs": []
    },
    {
      "cell_type": "code",
      "source": [
        "#Open Website\n",
        "driver = webdriver.Chrome('chromedriver',options=chrome_options)\n",
        "driver.get(destination)"
      ],
      "metadata": {
        "id": "tO9Fea0qYEEv"
      },
      "execution_count": 150,
      "outputs": []
    },
    {
      "cell_type": "code",
      "source": [
        "from selenium.webdriver.common.by import By\n",
        "from selenium.webdriver.support.ui import WebDriverWait\n",
        "from selenium.webdriver.support import expected_conditions as EC\n",
        "\n",
        "username = 'xxxxx'\n",
        "password = 'xxxxx.'\n",
        "\n",
        "username_input = driver.find_element(\"id\",\"username\")\n",
        "username_input.send_keys(username)\n",
        "\n",
        "pass_input = driver.find_element(\"id\",\"password\")\n",
        "pass_input.send_keys(password)\n",
        "\n",
        "search_box = driver.find_element(\"id\",\"loginForm\")\n",
        "search_box.submit()\n",
        "\n",
        "\n",
        "\n",
        "# user_input = driver.find_element(\"username\",\"q\")"
      ],
      "metadata": {
        "id": "hviFQ9Egdvl5"
      },
      "execution_count": 151,
      "outputs": []
    },
    {
      "cell_type": "markdown",
      "source": [
        "\n",
        "\n",
        "---\n",
        "\n",
        "# Web Scraping\n",
        "- Get HTML source code using BeautifulSoup\n",
        "- Read and transfer code to lecture data using HTMLParser"
      ],
      "metadata": {
        "id": "SE558Gp2ZK22"
      }
    },
    {
      "cell_type": "code",
      "source": [
        "from bs4 import BeautifulSoup\n",
        "import requests\n",
        "import pandas as pd"
      ],
      "metadata": {
        "id": "5z-shkeGZUre"
      },
      "execution_count": 169,
      "outputs": []
    },
    {
      "cell_type": "code",
      "source": [
        "# driver.get(destination)\n",
        "soup =  BeautifulSoup(driver.page_source, 'html.parser')"
      ],
      "metadata": {
        "id": "UG3DfGDQYRg-"
      },
      "execution_count": 170,
      "outputs": []
    },
    {
      "cell_type": "code",
      "source": [
        "lecture = []"
      ],
      "metadata": {
        "id": "JIozaHqt6S1H"
      },
      "execution_count": 171,
      "outputs": []
    },
    {
      "cell_type": "code",
      "source": [
        "for i in range(0,5):\n",
        "  get_div = driver.find_element('xpath','//*[@id=\"ttWrapper\"]/table/tbody/tr[3]/td[' + str(i+2) + ']')\n",
        "  lecture.append(get_div.get_attribute('innerHTML'))"
      ],
      "metadata": {
        "id": "HlEDIIBL3r3n"
      },
      "execution_count": 172,
      "outputs": []
    },
    {
      "cell_type": "code",
      "source": [
        "from html.parser import HTMLParser\n",
        "\n",
        "class MyHTMLParser(HTMLParser):\n",
        "  def __init__(self):\n",
        "    HTMLParser.__init__(self)\n",
        "    HTMLParser.unwanted_tag = ['div','i','a','br']\n",
        "    HTMLParser.lectuteInWeek = []\n",
        "    HTMLParser.day = 0\n",
        "\n",
        "  def GetLectuteInWeek(self, HTMLtext):\n",
        "    for i in range(0,5):\n",
        "      HTMLParser.lectuteInWeek.append([])\n",
        "      parser.feed(HTMLtext[i])\n",
        "      HTMLParser.day += 1\n",
        "    return HTMLParser.lectuteInWeek\n",
        "  \n",
        "  def handle_data(self, data):\n",
        "    # print(\"Encountered some data  :\", data)\n",
        "    HTMLParser.lectuteInWeek[HTMLParser.day].append(data)\n",
        "\n",
        "  # def handle_starttag(self, tag, attrs):\n",
        "  #   if not(tag in HTMLParser.unwanted_tag) :\n",
        "  #     print(\"Encountered a start tag:\", tag)\n",
        "\n",
        "  # def handle_endtag(self, tag):\n",
        "  #   if not(tag in HTMLParser.unwanted_tag) :\n",
        "  #     print(\"Encountered an end tag :\", tag)\n",
        "\n",
        "parser = MyHTMLParser()\n",
        "lectureInWeek = parser.GetLectuteInWeek(lecture)"
      ],
      "metadata": {
        "id": "wrdyS8OF-lA-"
      },
      "execution_count": 173,
      "outputs": []
    },
    {
      "cell_type": "markdown",
      "source": [
        "# Analyse Data"
      ],
      "metadata": {
        "id": "frjy5dcCLlJ2"
      }
    },
    {
      "cell_type": "code",
      "source": [
        "temp = lectureInWeek.copy()"
      ],
      "metadata": {
        "id": "OcJl-SGrFmXW"
      },
      "execution_count": 176,
      "outputs": []
    },
    {
      "cell_type": "code",
      "source": [
        "class lecture:\n",
        "  def __init__(self, day=-1 , start=-1, end=-1, subject=\"none\", className=\"none\"):\n",
        "    self.day = day\n",
        "    self.start = start\n",
        "    self.end = end\n",
        "    self.className = className\n",
        "    self.subject = subject"
      ],
      "metadata": {
        "id": "lObAPU6lNV9m"
      },
      "execution_count": 182,
      "outputs": []
    },
    {
      "cell_type": "code",
      "source": [
        "lectureData = []"
      ],
      "metadata": {
        "id": "r91O2c-sQVS1"
      },
      "execution_count": 160,
      "outputs": []
    },
    {
      "cell_type": "code",
      "source": [
        "for day in range(0,5):\n",
        "  temp = lectureInWeek[day].copy()\n",
        "  i=0\n",
        "  while i< len(temp): \n",
        "    if temp[i][0:4] == \"ESC \":  \n",
        "      \n",
        "      #get subject and class name\n",
        "      subject = temp[i][0:3] + temp[i][4:-2]\n",
        "      if subject[-1] == \".\":\n",
        "        subject = subject[:-1]\n",
        "      className = temp[i+1]\n",
        "\n",
        "      # get time\n",
        "      timeIndex = temp.index(subject) +1\n",
        "      time = temp[timeIndex]\n",
        "      start = time[0:5]\n",
        "      end = time[-5:]\n",
        "      \n",
        "      # remove read class\n",
        "      temp.remove(subject)\n",
        "      temp.remove(time)\n",
        "\n",
        "      #append data\n",
        "      print(str(day) + \"  \" + subject + \" ; \" + className + \" ; \", start + \" \" + end)\n",
        "      lectureData.append(lecture(day,start,end,subject,className))\n",
        "      continue\n",
        "\n",
        "    if temp[i] == \"School Closed\":\n",
        "      print(str(day) + \"  \" + \"School Closed\")\n",
        "      lectureData.append(lecture(day, \"08:00\" , \"16:00\", \"School Closed\"))\n",
        "      break\n",
        "    \n",
        "    i+=1"
      ],
      "metadata": {
        "id": "SYYwrTuIMrh-",
        "colab": {
          "base_uri": "https://localhost:8080/"
        },
        "outputId": "b7c0d162-5cda-41eb-cb14-7e2c47033643"
      },
      "execution_count": 195,
      "outputs": [
        {
          "output_type": "stream",
          "name": "stdout",
          "text": [
            "0  School Closed\n",
            "1  School Closed\n",
            "2  ESC714 ; Divergence, curl and second derivatives ;  09:00 11:00\n",
            "2  ESC623 ; solving your model ;  11:00 12:00\n",
            "2  ESC623 ; solving your model ;  13:00 14:00\n",
            "2  ESC711 ; Basic integration, integrability ;  14:00 16:00\n",
            "3  ESC625 ; เตรียมสอบ TGAT ;  09:00 10:00\n",
            "3  ESC713 ; 1st-order ODE (exact) ;  10:00 12:00\n",
            "3  ESC712 ; Eigenvalues & eigenvectors ;  13:00 15:00\n",
            "3  ESC621 ; Quiz ;  15:00 16:00\n",
            "4  ESC621 ; ทฤษฎีกราฟ 1 ;  09:00 12:00\n",
            "4  ESC625 ; การวางแผนครอบครัว ;  13:00 14:00\n",
            "4  ESC642 ; ทักษะการส่งลูก(เสิร์ฟ) ;  14:00 15:00\n",
            "4  ESC625 ; เตรียมสอบ TGAT ;  15:00 16:00\n"
          ]
        }
      ]
    }
  ]
}