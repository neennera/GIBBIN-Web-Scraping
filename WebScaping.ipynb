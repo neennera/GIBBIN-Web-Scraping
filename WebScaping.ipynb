{
  "nbformat": 4,
  "nbformat_minor": 0,
  "metadata": {
    "colab": {
      "provenance": [],
      "collapsed_sections": [
        "rebYpD29KYSD"
      ],
      "authorship_tag": "ABX9TyPEO/gwBcV6PGchuPktbkvg",
      "include_colab_link": true
    },
    "kernelspec": {
      "name": "python3",
      "display_name": "Python 3"
    },
    "language_info": {
      "name": "python"
    }
  },
  "cells": [
    {
      "cell_type": "markdown",
      "metadata": {
        "id": "view-in-github",
        "colab_type": "text"
      },
      "source": [
        "<a href=\"https://colab.research.google.com/github/neennera/GIBBIN-Web-Scraping/blob/main/WebScaping.ipynb\" target=\"_parent\"><img src=\"https://colab.research.google.com/assets/colab-badge.svg\" alt=\"Open In Colab\"/></a>"
      ]
    },
    {
      "cell_type": "markdown",
      "source": [
        "\n",
        "\n",
        "---\n",
        "\n"
      ],
      "metadata": {
        "id": "yCIl1PYTTpWt"
      }
    },
    {
      "cell_type": "markdown",
      "source": [
        "# [FIXED] open google chrom by selenium\n",
        "support ubuntu 20.04 due to colab update ubanto version"
      ],
      "metadata": {
        "id": "rebYpD29KYSD"
      }
    },
    {
      "cell_type": "code",
      "source": [
        "destination = \"https://esc.kmutt.ac.th/index.php\""
      ],
      "metadata": {
        "id": "9p5xZAi-IyTT"
      },
      "execution_count": 50,
      "outputs": []
    },
    {
      "cell_type": "code",
      "source": [
        "%%shell\n",
        "# Ubuntu no longer distributes chromium-browser outside of snap\n",
        "#\n",
        "# Proposed solution: https://askubuntu.com/questions/1204571/how-to-install-chromium-without-snap\n",
        "\n",
        "# Add debian buster\n",
        "cat > /etc/apt/sources.list.d/debian.list <<'EOF'\n",
        "deb [arch=amd64 signed-by=/usr/share/keyrings/debian-buster.gpg] http://deb.debian.org/debian buster main\n",
        "deb [arch=amd64 signed-by=/usr/share/keyrings/debian-buster-updates.gpg] http://deb.debian.org/debian buster-updates main\n",
        "deb [arch=amd64 signed-by=/usr/share/keyrings/debian-security-buster.gpg] http://deb.debian.org/debian-security buster/updates main\n",
        "EOF\n",
        "\n",
        "# Add keys\n",
        "apt-key adv --keyserver keyserver.ubuntu.com --recv-keys DCC9EFBF77E11517\n",
        "apt-key adv --keyserver keyserver.ubuntu.com --recv-keys 648ACFD622F3D138\n",
        "apt-key adv --keyserver keyserver.ubuntu.com --recv-keys 112695A0E562B32A\n",
        "\n",
        "apt-key export 77E11517 | gpg --dearmour -o /usr/share/keyrings/debian-buster.gpg\n",
        "apt-key export 22F3D138 | gpg --dearmour -o /usr/share/keyrings/debian-buster-updates.gpg\n",
        "apt-key export E562B32A | gpg --dearmour -o /usr/share/keyrings/debian-security-buster.gpg\n",
        "\n",
        "# Prefer debian repo for chromium* packages only\n",
        "# Note the double-blank lines between entries\n",
        "cat > /etc/apt/preferences.d/chromium.pref << 'EOF'\n",
        "Package: *\n",
        "Pin: release a=eoan\n",
        "Pin-Priority: 500\n",
        "\n",
        "\n",
        "Package: *\n",
        "Pin: origin \"deb.debian.org\"\n",
        "Pin-Priority: 300\n",
        "\n",
        "\n",
        "Package: chromium*\n",
        "Pin: origin \"deb.debian.org\"\n",
        "Pin-Priority: 700\n",
        "EOF\n",
        "\n",
        "# Install chromium and chromium-driver\n",
        "apt-get update\n",
        "apt-get install chromium chromium-driver\n",
        "\n",
        "# Install selenium\n",
        "pip install selenium"
      ],
      "metadata": {
        "id": "N3-VLQh0tUg_"
      },
      "execution_count": null,
      "outputs": []
    },
    {
      "cell_type": "code",
      "source": [
        "from selenium import webdriver\n",
        "from selenium.webdriver.chrome.options import Options\n",
        "\n",
        "options = Options()\n",
        "options.add_argument(\"--headless\")\n",
        "options.add_argument(\"--no-sandbox\")\n",
        "\n",
        "options.headless = True\n",
        "\n",
        "driver = webdriver.Chrome(\"/usr/bin/chromedriver\", options=options)\n",
        "\n",
        "driver.get(destination)\n",
        "print(driver.title)"
      ],
      "metadata": {
        "id": "x4JCoxqSJazi",
        "colab": {
          "base_uri": "https://localhost:8080/"
        },
        "outputId": "b4be20c6-4a5f-46df-e9f3-2829f0091dbd"
      },
      "execution_count": 72,
      "outputs": [
        {
          "output_type": "stream",
          "name": "stderr",
          "text": [
            "<ipython-input-72-e12a53def73d>:8: DeprecationWarning: headless property is deprecated, instead use add_argument('--headless') or add_argument('--headless=new')\n",
            "  options.headless = True\n",
            "<ipython-input-72-e12a53def73d>:10: DeprecationWarning: executable_path has been deprecated, please pass in a Service object\n",
            "  driver = webdriver.Chrome(\"/usr/bin/chromedriver\", options=options)\n"
          ]
        },
        {
          "output_type": "stream",
          "name": "stdout",
          "text": [
            "ESC - ESC\n"
          ]
        }
      ]
    },
    {
      "cell_type": "markdown",
      "source": [
        "\n",
        "\n",
        "---\n",
        "\n",
        "# Web Scraping : Go to 'Student' page\n",
        "- Get HTML source code using BeautifulSoup\n",
        "- Read and transfer code to lecture data using HTMLParser"
      ],
      "metadata": {
        "id": "SE558Gp2ZK22"
      }
    },
    {
      "cell_type": "code",
      "source": [
        "from selenium.webdriver.common.by import By\n",
        "from selenium.webdriver.support.ui import WebDriverWait\n",
        "from selenium.webdriver.support import expected_conditions as EC\n",
        "\n",
        "\n",
        "X_path_login_username = '//html/body/div[2]/div[1]/div/div[2]/div/div/div/form/div/div[1]/div[2]/div/input'\n",
        "X_path_login_password = '//html/body/div[2]/div[1]/div/div[2]/div/div/div/form/div/div[2]/div[2]/div/input'\n",
        "X_path_login_submitButton = '//html/body/div[2]/div[1]/div/div[2]/div/div/div/form/div/div[6]/div/input'\n",
        "\n",
        "#username_input = driver.find_element(\"id\",\"username\")\n",
        "username_input = driver.find_element(\"xpath\",X_path_login_username)\n",
        "username_input.send_keys(gibbon_username)\n",
        "\n",
        "password_input = driver.find_element(\"xpath\",X_path_login_password)\n",
        "password_input.send_keys(gibbon_password)\n",
        "\n",
        "login_box = driver.find_element(\"xpath\",X_path_login_submitButton)\n",
        "login_box.submit()"
      ],
      "metadata": {
        "id": "hviFQ9Egdvl5"
      },
      "execution_count": 73,
      "outputs": []
    },
    {
      "cell_type": "code",
      "source": [
        "Xpath_of_learn_button = '//*[@id=\"header-menu\"]/ul/li[3]'\n",
        "Xpath_of_timetable_button = '//*[@id=\"header-menu\"]/ul/li[3]/ul/li[4]/a'\n",
        "\n",
        "driver.find_element('xpath',Xpath_of_learn_button)\n",
        "timetable_page = driver.find_element('xpath',Xpath_of_timetable_button).get_property(\"href\")"
      ],
      "metadata": {
        "id": "IV62ReiOSekx"
      },
      "execution_count": 75,
      "outputs": []
    },
    {
      "cell_type": "code",
      "source": [
        "driver.get(timetable_page)"
      ],
      "metadata": {
        "id": "aHWRmY0uP4hU"
      },
      "execution_count": 76,
      "outputs": []
    },
    {
      "cell_type": "markdown",
      "source": [
        "# Web Scraping : Read the class timetable"
      ],
      "metadata": {
        "id": "s5s9WJwlBI89"
      }
    },
    {
      "cell_type": "code",
      "source": [
        "ESCK_Class = ['4E','4S','4C','5E','5S','5C','6E','6S','6C','AU1/1','AU1/2','BI1/1','BI1/2','AU2/1','AU2/2','AU3/1']"
      ],
      "metadata": {
        "id": "aZ9oTe9HAcbl"
      },
      "execution_count": null,
      "outputs": []
    },
    {
      "cell_type": "code",
      "source": [
        "from bs4 import BeautifulSoup\n",
        "import requests\n",
        "import pandas as pd"
      ],
      "metadata": {
        "id": "5z-shkeGZUre"
      },
      "execution_count": null,
      "outputs": []
    },
    {
      "cell_type": "code",
      "source": [
        "from html.parser import HTMLParser\n",
        "\n",
        "class MyHTMLParser(HTMLParser):\n",
        "  def __init__(self):\n",
        "    HTMLParser.__init__(self)\n",
        "    HTMLParser.unwanted_tag = ['div','i','a','br']\n",
        "    HTMLParser.lectuteInWeek = []\n",
        "    HTMLParser.day = 0\n",
        "\n",
        "  def GetLectuteInWeek(self, HTMLtext):\n",
        "    for i in range(0,7):\n",
        "      HTMLParser.lectuteInWeek.append([])\n",
        "      parser.feed(HTMLtext[i])\n",
        "      HTMLParser.day += 1\n",
        "    return HTMLParser.lectuteInWeek\n",
        "  \n",
        "  def handle_data(self, data):\n",
        "    # print(\"Encountered some data  :\", data)\n",
        "    HTMLParser.lectuteInWeek[HTMLParser.day].append(data)\n",
        "\n",
        "  # def handle_starttag(self, tag, attrs):\n",
        "  #   if not(tag in HTMLParser.unwanted_tag) :\n",
        "  #     print(\"Encountered a start tag:\", tag)\n",
        "\n",
        "  # def handle_endtag(self, tag):\n",
        "  #   if not(tag in HTMLParser.unwanted_tag) :\n",
        "  #     print(\"Encountered an end tag :\", tag)"
      ],
      "metadata": {
        "id": "wrdyS8OF-lA-"
      },
      "execution_count": 133,
      "outputs": []
    },
    {
      "cell_type": "code",
      "source": [
        "parser = MyHTMLParser()"
      ],
      "metadata": {
        "id": "GC6QN2Y2S9h8"
      },
      "execution_count": 89,
      "outputs": []
    },
    {
      "cell_type": "code",
      "source": [
        "Xpath_of_search_box = '//*[@id=\"search\"]'\n",
        "Xpath_of_search_submit_button = '//*[@id=\"ttView\"]/div/div[2]/div/input'\n",
        "Xpath_of_View_detail_button = '//*[@id=\"timetables\"]/table/tbody/tr[1]/td[5]/nav/div/a'\n",
        "\n",
        "def searching(classroom) :\n",
        "  driver.get(timetable_page)\n",
        "  driver.find_element('xpath',Xpath_of_search_box).clear()\n",
        "  driver.find_element('xpath',Xpath_of_search_box).send_keys(classroom)\n",
        "  driver.find_element('xpath',Xpath_of_search_submit_button).submit()\n",
        "  driver.find_element('xpath',Xpath_of_View_detail_button).click()\n",
        "\n",
        "def scaping():\n",
        "  lecture = []\n",
        "  for i in range(0,7):\n",
        "    get_div = driver.find_element('xpath','//*[@id=\"ttWrapper\"]/table/tbody/tr[2]/td[' + str(i+2) + ']')\n",
        "    lecture.append(get_div.get_attribute('innerHTML'))\n",
        "  parser = MyHTMLParser()\n",
        "  lectureInWeek = parser.GetLectuteInWeek(lecture)\n",
        "  return lectureInWeek"
      ],
      "metadata": {
        "id": "cwmJZjEIMyDs"
      },
      "execution_count": 135,
      "outputs": []
    },
    {
      "cell_type": "code",
      "source": [
        "driver.page_source"
      ],
      "metadata": {
        "id": "uvkYLYpOOBX8"
      },
      "execution_count": null,
      "outputs": []
    },
    {
      "cell_type": "code",
      "source": [
        "#searching(\"6C\")\n",
        "exampleOfLecture = scaping()"
      ],
      "metadata": {
        "id": "FcCPymlERtQc"
      },
      "execution_count": null,
      "outputs": []
    },
    {
      "cell_type": "code",
      "source": [
        "# driver.get(destination)\n",
        "# soup =  BeautifulSoup(driver.page_source, 'html.parser')"
      ],
      "metadata": {
        "id": "UG3DfGDQYRg-"
      },
      "execution_count": null,
      "outputs": []
    },
    {
      "cell_type": "markdown",
      "source": [
        "# Analyse Data"
      ],
      "metadata": {
        "id": "frjy5dcCLlJ2"
      }
    },
    {
      "cell_type": "code",
      "source": [
        "temp = exampleOfLecture.copy()"
      ],
      "metadata": {
        "id": "OcJl-SGrFmXW"
      },
      "execution_count": 136,
      "outputs": []
    },
    {
      "cell_type": "code",
      "source": [
        "class lecture:\n",
        "  def __init__(self, day=-1 , start=-1, end=-1, subject=\"none\", className=\"none\"):\n",
        "    self.day = day\n",
        "    self.start = start\n",
        "    self.end = end\n",
        "    self.className = className\n",
        "    self.subject = subject"
      ],
      "metadata": {
        "id": "lObAPU6lNV9m"
      },
      "execution_count": 115,
      "outputs": []
    },
    {
      "cell_type": "code",
      "source": [
        "lectureData = []"
      ],
      "metadata": {
        "id": "r91O2c-sQVS1"
      },
      "execution_count": 116,
      "outputs": []
    },
    {
      "cell_type": "code",
      "source": [
        "for day in range(0,7):\n",
        "  temp = exampleOfLecture[day].copy()\n",
        "  i=0\n",
        "  while i< len(temp): \n",
        "    if temp[i][0:4] == \"ESC \":  \n",
        "      \n",
        "      #get subject and class name\n",
        "      subject = temp[i][0:3] + temp[i][4:-2]\n",
        "      if subject[-1] == \".\":\n",
        "        subject = subject[:-1]\n",
        "      className = temp[i+1]\n",
        "\n",
        "      # get time\n",
        "      timeIndex = temp.index(subject) +1\n",
        "      time = temp[timeIndex]\n",
        "      start = time[0:5]\n",
        "      end = time[-5:]\n",
        "      \n",
        "      # remove read class\n",
        "      temp.remove(subject)\n",
        "      temp.remove(time)\n",
        "\n",
        "      #append data\n",
        "      print(str(day) + \"  \" + subject + \" ; \" + className + \" ; \", start + \" \" + end)\n",
        "      lectureData.append(lecture(day,start,end,subject,className))\n",
        "      continue\n",
        "\n",
        "    if temp[i] == \"School Closed\":\n",
        "      print(str(day) + \"  \" + \"School Closed\")\n",
        "      lectureData.append(lecture(day, \"08:00\" , \"16:00\", \"School Closed\"))\n",
        "      break\n",
        "    \n",
        "    i+=1"
      ],
      "metadata": {
        "id": "SYYwrTuIMrh-",
        "colab": {
          "base_uri": "https://localhost:8080/"
        },
        "outputId": "d21b30e0-af63-45e6-f4bd-fab5f1ec5d76"
      },
      "execution_count": 137,
      "outputs": [
        {
          "output_type": "stream",
          "name": "stdout",
          "text": [
            "1  ESC623 ; Disscution of problem ;  09:00 11:00\n",
            "1  ESC625 ; ภาษาถิ่น (ภาษาและวัฒนธรรม) ;  12:00 14:00\n",
            "1  ESC652 ; Unit 10B: The Power of Play ;  14:00 15:00\n",
            "1  ESC642 ; ทักษะการสกัดกั้น(บล็อก) ;  15:00 16:00\n",
            "2  ESC624 ; Endocrine system ;  09:00 11:00\n",
            "2  ESC625 ; ภาษาถิ่น (กิจกรรม) ;  12:00 14:00\n",
            "2  ESC652 ; Unit 10B: Negative Adverb, Unit 10C: Living Free? ;  14:00 16:00\n",
            "3  ESC623 ; สื่อโฆษณาเพื่อสุขภาพ 2 ;  10:00 11:00\n",
            "3  ESC728 ; review and midterm examination ;  12:00 14:00\n",
            "3  ESC711 ; Calculus with parametric curves ;  14:00 16:00\n",
            "4  ESC623 ; การทำ Storyboard ;  09:00 10:00\n",
            "4  ESC713 ; การประยุกต์ของสมการเชิงเส้นอันดับหนึ่ง (1) ;  10:00 12:00\n",
            "4  ESC721 ; Oscillatory motion I ;  13:00 15:00\n",
            "4  ESC623 ; (EXT) Self-study ;  16:00 18:00\n",
            "5  ESC621 ; แผนผังคาร์โนห์ 1 ;  09:00 11:00\n",
            "5  ESC621 ; พีชคณิตบูลีนและการลดรูปสมการลอจิก ;  12:00 14:00\n",
            "5  ESC623 ; Solve the problem ;  14:00 16:00\n"
          ]
        }
      ]
    }
  ]
}