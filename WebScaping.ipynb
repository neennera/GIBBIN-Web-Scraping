{
  "nbformat": 4,
  "nbformat_minor": 0,
  "metadata": {
    "colab": {
      "provenance": [],
      "collapsed_sections": [
        "SE558Gp2ZK22",
        "s5s9WJwlBI89"
      ],
      "authorship_tag": "ABX9TyO44N0ebY8ZYvBu5Y2u38DZ",
      "include_colab_link": true
    },
    "kernelspec": {
      "name": "python3",
      "display_name": "Python 3"
    },
    "language_info": {
      "name": "python"
    }
  },
  "cells": [
    {
      "cell_type": "markdown",
      "metadata": {
        "id": "view-in-github",
        "colab_type": "text"
      },
      "source": [
        "<a href=\"https://colab.research.google.com/github/neennera/GIBBIN-Web-Scraping/blob/main/WebScaping.ipynb\" target=\"_parent\"><img src=\"https://colab.research.google.com/assets/colab-badge.svg\" alt=\"Open In Colab\"/></a>"
      ]
    },
    {
      "cell_type": "markdown",
      "source": [
        "\n",
        "\n",
        "---\n",
        "\n"
      ],
      "metadata": {
        "id": "yCIl1PYTTpWt"
      }
    },
    {
      "cell_type": "markdown",
      "source": [
        "# [FIXED] open google chrom by selenium\n",
        "support ubuntu 20.04 due to colab update ubanto version"
      ],
      "metadata": {
        "id": "rebYpD29KYSD"
      }
    },
    {
      "cell_type": "code",
      "source": [
        "destination = \"https://esc.kmutt.ac.th/index.php\""
      ],
      "metadata": {
        "id": "9p5xZAi-IyTT"
      },
      "execution_count": 2,
      "outputs": []
    },
    {
      "cell_type": "code",
      "source": [
        "%%shell\n",
        "# Ubuntu no longer distributes chromium-browser outside of snap\n",
        "#\n",
        "# Proposed solution: https://askubuntu.com/questions/1204571/how-to-install-chromium-without-snap\n",
        "\n",
        "# Add debian buster\n",
        "cat > /etc/apt/sources.list.d/debian.list <<'EOF'\n",
        "deb [arch=amd64 signed-by=/usr/share/keyrings/debian-buster.gpg] http://deb.debian.org/debian buster main\n",
        "deb [arch=amd64 signed-by=/usr/share/keyrings/debian-buster-updates.gpg] http://deb.debian.org/debian buster-updates main\n",
        "deb [arch=amd64 signed-by=/usr/share/keyrings/debian-security-buster.gpg] http://deb.debian.org/debian-security buster/updates main\n",
        "EOF\n",
        "\n",
        "# Add keys\n",
        "apt-key adv --keyserver keyserver.ubuntu.com --recv-keys DCC9EFBF77E11517\n",
        "apt-key adv --keyserver keyserver.ubuntu.com --recv-keys 648ACFD622F3D138\n",
        "apt-key adv --keyserver keyserver.ubuntu.com --recv-keys 112695A0E562B32A\n",
        "\n",
        "apt-key export 77E11517 | gpg --dearmour -o /usr/share/keyrings/debian-buster.gpg\n",
        "apt-key export 22F3D138 | gpg --dearmour -o /usr/share/keyrings/debian-buster-updates.gpg\n",
        "apt-key export E562B32A | gpg --dearmour -o /usr/share/keyrings/debian-security-buster.gpg\n",
        "\n",
        "# Prefer debian repo for chromium* packages only\n",
        "# Note the double-blank lines between entries\n",
        "cat > /etc/apt/preferences.d/chromium.pref << 'EOF'\n",
        "Package: *\n",
        "Pin: release a=eoan\n",
        "Pin-Priority: 500\n",
        "\n",
        "\n",
        "Package: *\n",
        "Pin: origin \"deb.debian.org\"\n",
        "Pin-Priority: 300\n",
        "\n",
        "\n",
        "Package: chromium*\n",
        "Pin: origin \"deb.debian.org\"\n",
        "Pin-Priority: 700\n",
        "EOF\n",
        "\n",
        "# Install chromium and chromium-driver\n",
        "apt-get update\n",
        "apt-get install chromium chromium-driver\n",
        "\n",
        "# Install selenium\n",
        "pip install selenium"
      ],
      "metadata": {
        "id": "N3-VLQh0tUg_"
      },
      "execution_count": null,
      "outputs": []
    },
    {
      "cell_type": "code",
      "source": [
        "from selenium import webdriver\n",
        "from selenium.webdriver.chrome.options import Options\n",
        "\n",
        "options = Options()\n",
        "options.add_argument(\"--headless=new\")\n",
        "options.add_argument(\"--no-sandbox\")\n",
        "\n",
        "options.headless = True\n",
        "\n",
        "driver = webdriver.Chrome(\"/usr/bin/chromedriver\", options=options)\n",
        "\n",
        "driver.get(destination)\n",
        "print(driver.title)"
      ],
      "metadata": {
        "id": "x4JCoxqSJazi",
        "colab": {
          "base_uri": "https://localhost:8080/"
        },
        "outputId": "dcc33ffd-95d1-4130-8678-92e5b06dca62"
      },
      "execution_count": 4,
      "outputs": [
        {
          "output_type": "stream",
          "name": "stderr",
          "text": [
            "<ipython-input-4-4dfb6cf481a8>:8: DeprecationWarning: headless property is deprecated, instead use add_argument('--headless') or add_argument('--headless=new')\n",
            "  options.headless = True\n",
            "<ipython-input-4-4dfb6cf481a8>:10: DeprecationWarning: executable_path has been deprecated, please pass in a Service object\n",
            "  driver = webdriver.Chrome(\"/usr/bin/chromedriver\", options=options)\n"
          ]
        },
        {
          "output_type": "stream",
          "name": "stdout",
          "text": [
            "ESC - ESC\n"
          ]
        }
      ]
    },
    {
      "cell_type": "markdown",
      "source": [
        "\n",
        "\n",
        "---\n",
        "\n",
        "# Web Scraping : Go to 'Student' page\n",
        "- Get HTML source code using BeautifulSoup\n",
        "- Read and transfer code to lecture data using HTMLParser"
      ],
      "metadata": {
        "id": "SE558Gp2ZK22"
      }
    },
    {
      "cell_type": "code",
      "source": [
        "from selenium.webdriver.common.by import By\n",
        "from selenium.webdriver.support.ui import WebDriverWait\n",
        "from selenium.webdriver.support import expected_conditions as EC\n",
        "\n",
        "\n",
        "X_path_login_username = '//html/body/div[2]/div[1]/div/div[2]/div/div/div/form/div/div[1]/div[2]/div/input'\n",
        "X_path_login_password = '//html/body/div[2]/div[1]/div/div[2]/div/div/div/form/div/div[2]/div[2]/div/input'\n",
        "X_path_login_submitButton = '//html/body/div[2]/div[1]/div/div[2]/div/div/div/form/div/div[6]/div/input'\n",
        "\n",
        "#username_input = driver.find_element(\"id\",\"username\")\n",
        "username_input = driver.find_element(\"xpath\",X_path_login_username)\n",
        "username_input.send_keys(gibbon_username)\n",
        "\n",
        "password_input = driver.find_element(\"xpath\",X_path_login_password)\n",
        "password_input.send_keys(gibbon_password)\n",
        "\n",
        "login_box = driver.find_element(\"xpath\",X_path_login_submitButton)\n",
        "login_box.submit()"
      ],
      "metadata": {
        "id": "hviFQ9Egdvl5"
      },
      "execution_count": 5,
      "outputs": []
    },
    {
      "cell_type": "code",
      "source": [
        "Xpath_of_learn_button = '//*[@id=\"header-menu\"]/ul/li[3]'\n",
        "Xpath_of_timetable_button = '//*[@id=\"header-menu\"]/ul/li[3]/ul/li[4]/a'\n",
        "\n",
        "driver.find_element('xpath',Xpath_of_learn_button)\n",
        "timetable_page = driver.find_element('xpath',Xpath_of_timetable_button).get_property(\"href\")"
      ],
      "metadata": {
        "id": "IV62ReiOSekx"
      },
      "execution_count": 6,
      "outputs": []
    },
    {
      "cell_type": "code",
      "source": [
        "driver.get(timetable_page)"
      ],
      "metadata": {
        "id": "aHWRmY0uP4hU"
      },
      "execution_count": 7,
      "outputs": []
    },
    {
      "cell_type": "markdown",
      "source": [
        "# Web Scraping : Read the class timetable"
      ],
      "metadata": {
        "id": "s5s9WJwlBI89"
      }
    },
    {
      "cell_type": "code",
      "source": [
        "ESCK_Class = ['4E','4S','4C','5E','5S','5C','6E','6S','6C','AU1/1','AU1/2','BI1/1','BI1/2','AU2/1','AU2/2','AU3/1']"
      ],
      "metadata": {
        "id": "aZ9oTe9HAcbl"
      },
      "execution_count": 8,
      "outputs": []
    },
    {
      "cell_type": "code",
      "source": [
        "# from bs4 import BeautifulSoup\n",
        "# import requests\n",
        "import pandas as pd"
      ],
      "metadata": {
        "id": "5z-shkeGZUre"
      },
      "execution_count": 9,
      "outputs": []
    },
    {
      "cell_type": "code",
      "source": [
        "from html.parser import HTMLParser\n",
        "\n",
        "class MyHTMLParser(HTMLParser):\n",
        "  def __init__(self):\n",
        "    HTMLParser.__init__(self)\n",
        "    HTMLParser.unwanted_tag = ['div','i','a','br']\n",
        "    HTMLParser.lectuteInWeek = []\n",
        "    HTMLParser.day = 0\n",
        "\n",
        "  def GetLectuteInWeek(self, HTMLtext):\n",
        "    for i in range(0,7):\n",
        "      HTMLParser.lectuteInWeek.append([])\n",
        "      parser.feed(HTMLtext[i])\n",
        "      HTMLParser.day += 1\n",
        "    return HTMLParser.lectuteInWeek\n",
        "  \n",
        "  def handle_data(self, data):\n",
        "    # print(\"Encountered some data  :\", data)\n",
        "    HTMLParser.lectuteInWeek[HTMLParser.day].append(data)\n",
        "\n",
        "  # def handle_starttag(self, tag, attrs):\n",
        "  #   if not(tag in HTMLParser.unwanted_tag) :\n",
        "  #     print(\"Encountered a start tag:\", tag)\n",
        "\n",
        "  # def handle_endtag(self, tag):\n",
        "  #   if not(tag in HTMLParser.unwanted_tag) :\n",
        "  #     print(\"Encountered an end tag :\", tag)"
      ],
      "metadata": {
        "id": "wrdyS8OF-lA-"
      },
      "execution_count": 10,
      "outputs": []
    },
    {
      "cell_type": "code",
      "source": [
        "parser = MyHTMLParser()"
      ],
      "metadata": {
        "id": "GC6QN2Y2S9h8"
      },
      "execution_count": 11,
      "outputs": []
    },
    {
      "cell_type": "code",
      "source": [
        "Xpath_of_search_box = '//*[@id=\"search\"]'\n",
        "Xpath_of_search_submit_button = '//*[@id=\"ttView\"]/div/div[2]/div/input'\n",
        "Xpath_of_View_detail_button = '//*[@id=\"timetables\"]/table/tbody/tr[1]/td[5]/nav/div/a'\n",
        "\n",
        "def searching(classroom) :\n",
        "  driver.get(timetable_page)\n",
        "  driver.find_element('xpath',Xpath_of_search_box).clear()\n",
        "  driver.find_element('xpath',Xpath_of_search_box).send_keys(classroom)\n",
        "  driver.find_element('xpath',Xpath_of_search_submit_button).submit()\n",
        "  driver.find_element('xpath',Xpath_of_View_detail_button).click()\n",
        "\n",
        "def scaping():\n",
        "  lecture = []\n",
        "  for i in range(0,7):\n",
        "    get_div = driver.find_element('xpath','//*[@id=\"ttWrapper\"]/table/tbody/tr[2]/td[' + str(i+2) + ']')\n",
        "    lecture.append(get_div.get_attribute('innerHTML'))\n",
        "  parser = MyHTMLParser()\n",
        "  lectureInWeek = parser.GetLectuteInWeek(lecture)\n",
        "  return lectureInWeek"
      ],
      "metadata": {
        "id": "cwmJZjEIMyDs"
      },
      "execution_count": 12,
      "outputs": []
    },
    {
      "cell_type": "markdown",
      "source": [
        "# Analyse Data"
      ],
      "metadata": {
        "id": "frjy5dcCLlJ2"
      }
    },
    {
      "cell_type": "code",
      "source": [
        "class lecture:\n",
        "  def __init__(self, day=-1 , start=-1, end=-1, subject=\"none\"):\n",
        "    self.day = day\n",
        "    self.start = start\n",
        "    self.end = end\n",
        "    self.subject = subject\n",
        "\n",
        "# datatime weekday() : mon = 0 ... sun = 6\n",
        "# we will map to sun = 0 ... sat = 6 that we scaping from previous function\n",
        "# set timenow to sunday of the week\n",
        "\n",
        "timenow = datetime.utcnow() + timedelta(hours=7)\n",
        "timenow = timenow + timedelta(days = 0) \n",
        "if(timenow.weekday() != 6) : \n",
        "  timenow = timenow + timedelta(days= - (timenow.weekday()+ 1)   )\n",
        "timenow = datetime(timenow.year, timenow.month, timenow.day)"
      ],
      "metadata": {
        "id": "lObAPU6lNV9m"
      },
      "execution_count": 110,
      "outputs": []
    },
    {
      "cell_type": "code",
      "source": [
        "def analyseLecture(exampleOfLecture) :\n",
        "  lectureData = []\n",
        "  for dayInWeek in range(0,7):\n",
        "    temp = exampleOfLecture[dayInWeek].copy()\n",
        "    i=0\n",
        "    while i< len(temp): \n",
        "      # Very spacial condition for M6 : 7XX class\n",
        "      if temp[i][0:4] == \"ESC7\":  \n",
        "        #get subject and class name\n",
        "        subject = temp[i]\n",
        "        className = \"วิชาเลือก\"\n",
        "\n",
        "        # get time\n",
        "        time = temp[i+1]\n",
        "        start = time[0:5]\n",
        "        end = time[-5:]\n",
        "\n",
        "        startTime = timenow + timedelta(days = dayInWeek) + timedelta(hours=int(start[0:2])) + timedelta(minutes=int(start[3:5]))\n",
        "        endTime = timenow + timedelta(days = dayInWeek) + timedelta(hours=int(end[0:2])) + timedelta(minutes=int(end[3:5]))\n",
        "        #append data\n",
        "        print(str(dayInWeek) + \"  \" + subject + \" ; \" + className + \" ; \", startTime.strftime('%Y-%m-%dT%H:%M:%S') + \" \" + endTime.strftime('%Y-%m-%dT%H:%M:%S'))\n",
        "        lectureData.append(lecture(dayInWeek,startTime,endTime,subject+\" \"+className))\n",
        "\n",
        "        # remove read class\n",
        "        temp.remove(subject)\n",
        "        temp.remove(time)\n",
        "        continue\n",
        "\n",
        "      # Common class\n",
        "      if temp[i][0:4] == \"ESC \" and temp[i][0:5] != \"ESC 7\":  \n",
        "        #get subject and class name\n",
        "        subject = temp[i][0:3] + temp[i][4:-2]\n",
        "        if subject[-1] == \".\":\n",
        "          subject = subject[:-1]\n",
        "        className = temp[i+1]\n",
        "\n",
        "        # get time\n",
        "        timeIndex = temp.index(subject) +1\n",
        "        time = temp[timeIndex]\n",
        "        start = time[0:5]\n",
        "        end = time[-5:]\n",
        "\n",
        "        startTime = timenow + timedelta(days = dayInWeek) + timedelta(hours=int(start[0:2])) + timedelta(minutes=int(start[3:5]))\n",
        "        endTime = timenow + timedelta(days = dayInWeek) + timedelta(hours=int(end[0:2])) + timedelta(minutes=int(end[3:5]))\n",
        "      \n",
        "        #append data\n",
        "        print(str(dayInWeek) + \"  \" + subject + \" ; \" + className + \" ; \", startTime.strftime('%Y-%m-%dT%H:%M:%S') + \" \" + endTime.strftime('%Y-%m-%dT%H:%M:%S'))\n",
        "        lectureData.append(lecture(dayInWeek,startTime,endTime,subject+\" \"+className))\n",
        "\n",
        "        # remove read class\n",
        "        temp.remove(subject)\n",
        "        temp.remove(time)\n",
        "        continue\n",
        "\n",
        "      if temp[i] == \"School Closed\":\n",
        "        print(str(dayInWeek) + \"  \" + \"School Closed\")\n",
        "        lectureData.append(lecture(dayInWeek, \"08:00\" , \"16:00\", \"School Closed\"))\n",
        "        break\n",
        "      \n",
        "      i+=1\n",
        "  return lectureData"
      ],
      "metadata": {
        "id": "SYYwrTuIMrh-"
      },
      "execution_count": 121,
      "outputs": []
    },
    {
      "cell_type": "code",
      "source": [
        "# searching(\"6C\")   #goToPages\n",
        "# exampleOfLecture = scaping()  #getData\n",
        "analysedLecture = analyseLecture(exampleOfLecture) #analyseData to day / str /end / subject"
      ],
      "metadata": {
        "id": "o7MMGFNRlsjJ",
        "colab": {
          "base_uri": "https://localhost:8080/"
        },
        "outputId": "5ca2ac9b-554b-4710-c1a0-40c0b2042595"
      },
      "execution_count": 122,
      "outputs": [
        {
          "output_type": "stream",
          "name": "stdout",
          "text": [
            "1  ESC623 ; Disscution of problem ;  2023-01-30 2023-01-30\n",
            "1  ESC625 ; ภาษาถิ่น (ภาษาและวัฒนธรรม) ;  2023-01-30 2023-01-30\n",
            "1  ESC652 ; Unit 10B: The Power of Play ;  2023-01-30 2023-01-30\n",
            "1  ESC642 ; ทักษะการสกัดกั้น(บล็อก) ;  2023-01-30 2023-01-30\n",
            "2  ESC624 ; Endocrine system ;  2023-01-31 2023-01-31\n",
            "2  ESC625 ; ภาษาถิ่น (กิจกรรม) ;  2023-01-31 2023-01-31\n",
            "2  ESC652 ; Unit 10B: Negative Adverb, Unit 10C: Living Free? ;  2023-01-31 2023-01-31\n",
            "3  ESC714 ; วิชาเลือก ;  2023-02-01 2023-02-01\n",
            "3  ESC726 ; วิชาเลือก ;  2023-02-01 2023-02-01\n",
            "3  ESC728 ; วิชาเลือก ;  2023-02-01 2023-02-01\n",
            "3  ESC711 ; วิชาเลือก ;  2023-02-01 2023-02-01\n",
            "3  ESC723 ; วิชาเลือก ;  2023-02-01 2023-02-01\n",
            "3  ESC725 ; วิชาเลือก ;  2023-02-01 2023-02-01\n",
            "3  ESC623 ; สื่อโฆษณาเพื่อสุขภาพ 2 ;  2023-02-01 2023-02-01\n",
            "4  ESC713 ; วิชาเลือก ;  2023-02-02 2023-02-02\n",
            "4  ESC722 ; วิชาเลือก ;  2023-02-02 2023-02-02\n",
            "4  ESC724-G1 ; วิชาเลือก ;  2023-02-02 2023-02-02\n",
            "4  ESC712 ; วิชาเลือก ;  2023-02-02 2023-02-02\n",
            "4  ESC721 ; วิชาเลือก ;  2023-02-02 2023-02-02\n",
            "4  ESC727 ; วิชาเลือก ;  2023-02-02 2023-02-02\n",
            "4  ESC724-G2 ; วิชาเลือก ;  2023-02-02 2023-02-02\n",
            "4  ESC623 ; การทำ Storyboard ;  2023-02-02 2023-02-02\n",
            "4  ESC623 ; (EXT) Self-study ;  2023-02-02 2023-02-02\n",
            "5  ESC621 ; แผนผังคาร์โนห์ 1 ;  2023-02-03 2023-02-03\n",
            "5  ESC621 ; พีชคณิตบูลีนและการลดรูปสมการลอจิก ;  2023-02-03 2023-02-03\n",
            "5  ESC623 ; Solve the problem ;  2023-02-03 2023-02-03\n"
          ]
        }
      ]
    },
    {
      "cell_type": "code",
      "source": [
        "for i in range(0,len(analysedLecture)):\n",
        "  print(analysedLecture[i].day)"
      ],
      "metadata": {
        "id": "Q-jHF5fRSR4f"
      },
      "execution_count": null,
      "outputs": []
    },
    {
      "cell_type": "markdown",
      "source": [
        "## google calendar function"
      ],
      "metadata": {
        "id": "4QX-0nS9g3z4"
      }
    },
    {
      "cell_type": "code",
      "source": [
        "from googleapiclient.discovery import build\n",
        "from datetime import datetime, timedelta"
      ],
      "metadata": {
        "id": "N6D8DeyOVuOM"
      },
      "execution_count": 28,
      "outputs": []
    },
    {
      "cell_type": "markdown",
      "source": [],
      "metadata": {
        "id": "w1VttLYfg6h4"
      }
    },
    {
      "cell_type": "code",
      "source": [
        "## Update google calendar\n",
        "API_KEY = 'your_api_key' # API Key or Client ID (obtained from Google API Console)\n",
        "CALENDAR_ID = 'c_6faf67346f38b30af4ae5e19ae9193da8135068afc9003d191ef17aae1fdf30c@group.calendar.google.com' # Calendar ID (can be found in the calendar's settings)\n",
        "\n",
        "def add_event_to_calendar(event_summary, event_start_time, event_end_time):\n",
        "    service = build('calendar', 'v3', developerKey=API_KEY)\n",
        "\n",
        "    # Event details\n",
        "    event = {\n",
        "      'summary': event_summary,\n",
        "      'start': {\n",
        "        'dateTime': event_start_time.strftime('%Y-%m-%dT%H:%M:%S'),\n",
        "        'timeZone': 'Asia/Bangkok',\n",
        "      },\n",
        "      'end': {\n",
        "        'dateTime': event_end_time.strftime('%Y-%m-%dT%H:%M:%S'),\n",
        "        'timeZone': 'Asia/Bangkok',\n",
        "      },\n",
        "    }\n",
        "\n",
        "    # Call the Calendar API to add the event\n",
        "    event = service.events().insert(calendarId=CALENDAR_ID, body=event).execute()"
      ],
      "metadata": {
        "id": "I_CnOLFHVqqt"
      },
      "execution_count": null,
      "outputs": []
    },
    {
      "cell_type": "code",
      "source": [
        "# Example usage\n",
        "event_start_time = datetime.utcnow() + timedelta(days=1)\n",
        "event_end_time = event_start_time + timedelta(hours=1)\n",
        "add_event_to_calendar('Example Event', event_start_time, event_end_time)"
      ],
      "metadata": {
        "id": "Rkt9Z6CtfSCq"
      },
      "execution_count": null,
      "outputs": []
    },
    {
      "cell_type": "code",
      "source": [
        "## Update google calendar\n",
        "import os\n",
        "from google.oauth2.service_account import Credentials\n",
        "import googleapiclient.discovery\n",
        "\n",
        "# Replace this with the ID of the calendar you want to update\n",
        "CALENDAR_ID = 'your_calendar_id'\n",
        "# Replace this with the ID of the event you want to update\n",
        "EVENT_ID = 'your_event_id'\n",
        "\n",
        "# Authenticate using a service account\n",
        "creds = Credentials.from_service_account_file(\n",
        "    'path/to/service_account.json',\n",
        "    scopes=['https://www.googleapis.com/auth/calendar']\n",
        ")\n",
        "\n",
        "# Build the Calendar API client\n",
        "calendar_service = googleapiclient.discovery.build('calendar', 'v3', credentials=creds)\n",
        "\n",
        "# Update the event\n",
        "event = calendar_service.events().get(calendarId=CALENDAR_ID, eventId=EVENT_ID).execute()\n",
        "event['summary'] = 'New event title'\n",
        "updated_event = calendar_service.events().update(calendarId=CALENDAR_ID, eventId=EVENT_ID, body=event).execute()\n",
        "\n",
        "print('Event updated:')\n",
        "print(updated_event)"
      ],
      "metadata": {
        "id": "A3WVqH0rg10Q"
      },
      "execution_count": null,
      "outputs": []
    }
  ]
}