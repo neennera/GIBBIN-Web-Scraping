{
  "cells": [
    {
      "cell_type": "markdown",
      "metadata": {
        "colab_type": "text",
        "id": "view-in-github"
      },
      "source": [
        "<a href=\"https://colab.research.google.com/github/neennera/GIBBIN-Web-Scraping/blob/main/WebScaping.ipynb\" target=\"_parent\"><img src=\"https://colab.research.google.com/assets/colab-badge.svg\" alt=\"Open In Colab\"/></a>"
      ]
    },
    {
      "cell_type": "markdown",
      "metadata": {
        "id": "yCIl1PYTTpWt"
      },
      "source": [
        "\n",
        "\n",
        "---\n",
        "\n"
      ]
    },
    {
      "cell_type": "markdown",
      "metadata": {
        "id": "rebYpD29KYSD"
      },
      "source": [
        "# Open google chrom by selenium\n",
        "support ubuntu 20.04 due to colab update ubanto version"
      ]
    },
    {
      "cell_type": "code",
      "execution_count": 81,
      "metadata": {
        "id": "9p5xZAi-IyTT"
      },
      "outputs": [],
      "source": [
        "destination = \"https://esc.kmutt.ac.th/index.php\""
      ]
    },
    {
      "cell_type": "code",
      "execution_count": null,
      "metadata": {
        "id": "N3-VLQh0tUg_"
      },
      "outputs": [],
      "source": [
        "%%shell\n",
        "# Ubuntu no longer distributes chromium-browser outside of snap\n",
        "#\n",
        "# Proposed solution: https://askubuntu.com/questions/1204571/how-to-install-chromium-without-snap\n",
        "\n",
        "# Add debian buster\n",
        "cat > /etc/apt/sources.list.d/debian.list <<'EOF'\n",
        "deb [arch=amd64 signed-by=/usr/share/keyrings/debian-buster.gpg] http://deb.debian.org/debian buster main\n",
        "deb [arch=amd64 signed-by=/usr/share/keyrings/debian-buster-updates.gpg] http://deb.debian.org/debian buster-updates main\n",
        "deb [arch=amd64 signed-by=/usr/share/keyrings/debian-security-buster.gpg] http://deb.debian.org/debian-security buster/updates main\n",
        "EOF\n",
        "\n",
        "# Add keys\n",
        "apt-key adv --keyserver keyserver.ubuntu.com --recv-keys DCC9EFBF77E11517\n",
        "apt-key adv --keyserver keyserver.ubuntu.com --recv-keys 648ACFD622F3D138\n",
        "apt-key adv --keyserver keyserver.ubuntu.com --recv-keys 112695A0E562B32A\n",
        "\n",
        "apt-key export 77E11517 | gpg --dearmour -o /usr/share/keyrings/debian-buster.gpg\n",
        "apt-key export 22F3D138 | gpg --dearmour -o /usr/share/keyrings/debian-buster-updates.gpg\n",
        "apt-key export E562B32A | gpg --dearmour -o /usr/share/keyrings/debian-security-buster.gpg\n",
        "\n",
        "# Prefer debian repo for chromium* packages only\n",
        "# Note the double-blank lines between entries\n",
        "cat > /etc/apt/preferences.d/chromium.pref << 'EOF'\n",
        "Package: *\n",
        "Pin: release a=eoan\n",
        "Pin-Priority: 500\n",
        "\n",
        "\n",
        "Package: *\n",
        "Pin: origin \"deb.debian.org\"\n",
        "Pin-Priority: 300\n",
        "\n",
        "\n",
        "Package: chromium*\n",
        "Pin: origin \"deb.debian.org\"\n",
        "Pin-Priority: 700\n",
        "EOF\n",
        "\n",
        "# Install chromium and chromium-driver\n",
        "apt-get update\n",
        "apt-get install chromium chromium-driver\n",
        "\n",
        "# Install selenium\n",
        "pip install selenium"
      ]
    },
    {
      "cell_type": "code",
      "execution_count": null,
      "metadata": {
        "id": "x4JCoxqSJazi"
      },
      "outputs": [],
      "source": [
        "from selenium import webdriver\n",
        "from selenium.webdriver.chrome.options import Options\n",
        "\n",
        "options = Options()\n",
        "options.add_argument(\"--headless\")\n",
        "options.add_argument(\"--no-sandbox\")\n",
        "\n",
        "options.headless = True\n",
        "\n",
        "driver = webdriver.Chrome(\"/usr/bin/chromedriver\", options=options)\n",
        "\n",
        "driver.get(destination)\n",
        "print(driver.title)"
      ]
    },
    {
      "cell_type": "markdown",
      "metadata": {
        "id": "SE558Gp2ZK22"
      },
      "source": [
        "\n",
        "\n",
        "---\n",
        "\n",
        "# Web Scraping : Go to 'Student' page\n",
        "- Get HTML source code using BeautifulSoup\n",
        "- Read and transfer code to lecture data using HTMLParser"
      ]
    },
    {
      "cell_type": "code",
      "execution_count": 84,
      "metadata": {
        "id": "hviFQ9Egdvl5"
      },
      "outputs": [],
      "source": [
        "from selenium.webdriver.common.by import By\n",
        "from selenium.webdriver.support.ui import WebDriverWait\n",
        "from selenium.webdriver.support import expected_conditions as EC\n",
        "\n",
        "\n",
        "X_path_login_username = '//html/body/div[2]/div[1]/div/div[2]/div/div/div/form/div/div[1]/div[2]/div/input'\n",
        "X_path_login_password = '//html/body/div[2]/div[1]/div/div[2]/div/div/div/form/div/div[2]/div[2]/div/input'\n",
        "X_path_login_submitButton = '//html/body/div[2]/div[1]/div/div[2]/div/div/div/form/div/div[6]/div/input'\n",
        "\n",
        "#username_input = driver.find_element(\"id\",\"username\")\n",
        "username_input = driver.find_element(\"xpath\",X_path_login_username)\n",
        "username_input.send_keys(gibbon_username)\n",
        "\n",
        "password_input = driver.find_element(\"xpath\",X_path_login_password)\n",
        "password_input.send_keys(gibbon_password)\n",
        "\n",
        "login_box = driver.find_element(\"xpath\",X_path_login_submitButton)\n",
        "login_box.submit()"
      ]
    },
    {
      "cell_type": "code",
      "execution_count": 85,
      "metadata": {
        "id": "IV62ReiOSekx"
      },
      "outputs": [],
      "source": [
        "Xpath_of_learn_button = '//*[@id=\"header-menu\"]/ul/li[3]'\n",
        "Xpath_of_timetable_button = '//*[@id=\"header-menu\"]/ul/li[3]/ul/li[4]/a'\n",
        "\n",
        "driver.find_element('xpath',Xpath_of_learn_button)\n",
        "timetable_page = driver.find_element('xpath',Xpath_of_timetable_button).get_property(\"href\")"
      ]
    },
    {
      "cell_type": "code",
      "execution_count": 86,
      "metadata": {
        "id": "aHWRmY0uP4hU"
      },
      "outputs": [],
      "source": [
        "driver.get(timetable_page)"
      ]
    },
    {
      "cell_type": "markdown",
      "metadata": {
        "id": "s5s9WJwlBI89"
      },
      "source": [
        "# Web Scraping : Read the class timetable"
      ]
    },
    {
      "cell_type": "code",
      "execution_count": 88,
      "metadata": {
        "id": "5z-shkeGZUre"
      },
      "outputs": [],
      "source": [
        "# from bs4 import BeautifulSoup\n",
        "# import requests\n",
        "import pandas as pd"
      ]
    },
    {
      "cell_type": "code",
      "execution_count": 89,
      "metadata": {
        "id": "wrdyS8OF-lA-"
      },
      "outputs": [],
      "source": [
        "from html.parser import HTMLParser\n",
        "\n",
        "class MyHTMLParser(HTMLParser):\n",
        "  def __init__(self):\n",
        "    HTMLParser.__init__(self)\n",
        "    HTMLParser.unwanted_tag = ['div','i','a','br']\n",
        "    HTMLParser.lectuteInWeek = []\n",
        "    HTMLParser.day = 0\n",
        "\n",
        "  def GetLectuteInWeek(self, HTMLtext):\n",
        "    for i in range(0,7):\n",
        "      HTMLParser.lectuteInWeek.append([])\n",
        "      parser.feed(HTMLtext[i])\n",
        "      HTMLParser.day += 1\n",
        "    return HTMLParser.lectuteInWeek\n",
        "  \n",
        "  def handle_data(self, data):\n",
        "    # print(\"Encountered some data  :\", data)\n",
        "    HTMLParser.lectuteInWeek[HTMLParser.day].append(data)\n",
        "\n",
        "  # def handle_starttag(self, tag, attrs):\n",
        "  #   if not(tag in HTMLParser.unwanted_tag) :\n",
        "  #     print(\"Encountered a start tag:\", tag)\n",
        "\n",
        "  # def handle_endtag(self, tag):\n",
        "  #   if not(tag in HTMLParser.unwanted_tag) :\n",
        "  #     print(\"Encountered an end tag :\", tag)"
      ]
    },
    {
      "cell_type": "code",
      "execution_count": 90,
      "metadata": {
        "id": "GC6QN2Y2S9h8"
      },
      "outputs": [],
      "source": [
        "parser = MyHTMLParser()"
      ]
    },
    {
      "cell_type": "code",
      "execution_count": 91,
      "metadata": {
        "id": "cwmJZjEIMyDs"
      },
      "outputs": [],
      "source": [
        "Xpath_of_search_box = '//*[@id=\"search\"]'\n",
        "Xpath_of_search_submit_button = '//*[@id=\"ttView\"]/div/div[2]/div/input'\n",
        "Xpath_of_View_detail_button = '//*[@id=\"timetables\"]/table/tbody/tr[1]/td[5]/nav/div/a'\n",
        "\n",
        "def searching(classroom) :\n",
        "  driver.get(timetable_page)\n",
        "  driver.find_element('xpath',Xpath_of_search_box).clear()\n",
        "  driver.find_element('xpath',Xpath_of_search_box).send_keys(classroom)\n",
        "  driver.find_element('xpath',Xpath_of_search_submit_button).submit()\n",
        "  driver.find_element('xpath',Xpath_of_View_detail_button).click()\n",
        "\n",
        "def scaping():\n",
        "  lecture = []\n",
        "  for i in range(0,7):\n",
        "    get_div = driver.find_element('xpath','//*[@id=\"ttWrapper\"]/table/tbody/tr[2]/td[' + str(i+2) + ']')\n",
        "    lecture.append(get_div.get_attribute('innerHTML'))\n",
        "  parser = MyHTMLParser()\n",
        "  lectureInWeek = parser.GetLectuteInWeek(lecture)\n",
        "  return lectureInWeek"
      ]
    },
    {
      "cell_type": "markdown",
      "metadata": {
        "id": "frjy5dcCLlJ2"
      },
      "source": [
        "# Analyse Data"
      ]
    },
    {
      "cell_type": "code",
      "execution_count": 92,
      "metadata": {
        "id": "9Bj3nJnQleVR"
      },
      "outputs": [],
      "source": [
        "from googleapiclient.discovery import build\n",
        "from datetime import datetime, timedelta"
      ]
    },
    {
      "cell_type": "code",
      "execution_count": 93,
      "metadata": {
        "id": "lObAPU6lNV9m"
      },
      "outputs": [],
      "source": [
        "class lecture:\n",
        "  def __init__(self, day=-1 , start=-1, end=-1, subject=\"none\"):\n",
        "    self.day = day\n",
        "    self.start = start\n",
        "    self.end = end\n",
        "    self.subject = subject\n",
        "\n",
        "# datatime weekday() : mon = 0 ... sun = 6\n",
        "# we will map to sun = 0 ... sat = 6 that we scaping from previous function\n",
        "# set timenow to sunday of the week\n",
        "\n",
        "timenow = datetime.utcnow() + timedelta(hours=7)\n",
        "timenow = timenow + timedelta(days = 0) \n",
        "if(timenow.weekday() != 6) : \n",
        "  timenow = timenow + timedelta(days= - (timenow.weekday()+ 1)   )\n",
        "timenow = datetime(timenow.year, timenow.month, timenow.day)"
      ]
    },
    {
      "cell_type": "code",
      "execution_count": 105,
      "metadata": {
        "id": "SYYwrTuIMrh-"
      },
      "outputs": [],
      "source": [
        "def analyseLecture(exampleOfLecture) :\n",
        "  lectureData = []\n",
        "  for dayInWeek in range(0,7):\n",
        "    temp = exampleOfLecture[dayInWeek].copy()\n",
        "    i=0\n",
        "    while i< len(temp): \n",
        "      # Very spacial condition for M6 : 7XX class\n",
        "      if temp[i][0:4] == \"ESC7\":  \n",
        "        #get subject and class name\n",
        "        subject = temp[i]\n",
        "        className = \"วิชาเลือก\"\n",
        "\n",
        "        # get time\n",
        "        time = temp[i+1]\n",
        "        start = time[0:5]\n",
        "        end = time[-5:]\n",
        "\n",
        "        startTime = timenow + timedelta(days = dayInWeek) + timedelta(hours=int(start[0:2])) + timedelta(minutes=int(start[3:5]))\n",
        "        endTime = timenow + timedelta(days = dayInWeek) + timedelta(hours=int(end[0:2])) + timedelta(minutes=int(end[3:5]))\n",
        "        #append data\n",
        "        #print(str(dayInWeek) + \"  \" + subject + \" ; \" + className + \" ; \", startTime.strftime('%Y-%m-%dT%H:%M:%S') + \" \" + endTime.strftime('%Y-%m-%dT%H:%M:%S'))\n",
        "        lectureData.append(lecture(dayInWeek,startTime,endTime,subject+\" \"+className))\n",
        "\n",
        "        # remove read class\n",
        "        temp.remove(subject)\n",
        "        temp.remove(time)\n",
        "        continue\n",
        "\n",
        "      # Common class\n",
        "      if temp[i][0:4] == \"ESC \" and temp[i][0:5] != \"ESC 7\":  \n",
        "        #get subject and class name\n",
        "        subject = temp[i][0:3] + temp[i][4:-2]\n",
        "        if subject[-1] == \".\":\n",
        "          subject = subject[:-1]\n",
        "        className = temp[i+1]\n",
        "\n",
        "        # get time\n",
        "        timeIndex = temp.index(subject) +1\n",
        "        time = temp[timeIndex]\n",
        "        start = time[0:5]\n",
        "        end = time[-5:]\n",
        "\n",
        "        startTime = timenow + timedelta(days = dayInWeek) + timedelta(hours=int(start[0:2])) + timedelta(minutes=int(start[3:5]))\n",
        "        endTime = timenow + timedelta(days = dayInWeek) + timedelta(hours=int(end[0:2])) + timedelta(minutes=int(end[3:5]))\n",
        "      \n",
        "        #append data\n",
        "        #print(str(dayInWeek) + \"  \" + subject + \" ; \" + className + \" ; \", startTime.strftime('%Y-%m-%dT%H:%M:%S') + \" \" + endTime.strftime('%Y-%m-%dT%H:%M:%S'))\n",
        "        lectureData.append(lecture(dayInWeek,startTime,endTime,subject+\" \"+className))\n",
        "\n",
        "        # remove read class\n",
        "        temp.remove(subject)\n",
        "        temp.remove(time)\n",
        "        continue\n",
        "\n",
        "      if temp[i] == \"School Closed\":\n",
        "        print(str(dayInWeek) + \"  \" + \"School Closed\")\n",
        "        lectureData.append(lecture(dayInWeek, \"08:00\" , \"16:00\", \"School Closed\"))\n",
        "        break\n",
        "      \n",
        "      i+=1\n",
        "  return lectureData"
      ]
    },
    {
      "cell_type": "markdown",
      "metadata": {
        "id": "4QX-0nS9g3z4"
      },
      "source": [
        "# google calendar function\n",
        "using OAuth 2.0 Client IDs : \"Desktop type\"\n",
        "\n",
        "OAuth consent screen : Internal, but add testing user\n",
        "\n",
        "date 2023/02/05"
      ]
    },
    {
      "cell_type": "code",
      "execution_count": null,
      "metadata": {
        "id": "Q23S0ppUns6R"
      },
      "outputs": [],
      "source": [
        "!sudo pip install --upgrade google-api-python-client"
      ]
    },
    {
      "cell_type": "code",
      "execution_count": 96,
      "metadata": {
        "id": "CDk7oRBQd__l"
      },
      "outputs": [],
      "source": [
        "import pickle\n",
        "from apiclient.discovery import build\n",
        "from google_auth_oauthlib.flow import InstalledAppFlow"
      ]
    },
    {
      "cell_type": "code",
      "execution_count": 97,
      "metadata": {
        "id": "95IeAs8HE3sX"
      },
      "outputs": [],
      "source": [
        "# # OAuth API register\n",
        "# scopes = ['https://www.googleapis.com/auth/calendar']\n",
        "# flow = InstalledAppFlow.from_client_secrets_file(\"desktop.json\", scopes=scopes)\n",
        "# credentials = flow.run_console()\n",
        "# pickle.dump(credentials, open(\"token.pkl\", \"wb\"))"
      ]
    },
    {
      "cell_type": "code",
      "execution_count": 98,
      "metadata": {
        "id": "KKg0lYHNd0Xc"
      },
      "outputs": [],
      "source": [
        "credentials = pickle.load(open(\"token.pkl\", \"rb\"))\n",
        "service = build(\"calendar\", \"v3\", credentials=credentials)"
      ]
    },
    {
      "cell_type": "code",
      "execution_count": 175,
      "metadata": {
        "id": "I_CnOLFHVqqt"
      },
      "outputs": [],
      "source": [
        "## Update google calendar\n",
        "API_KEY = '30068550143-uf6kotbrq4drn4903sh5pt1fnnqrjdk9.apps.googleusercontent.com' # API Key or Client ID (obtained from Google API Console)\n",
        "CALENDAR_ID = 'c_6faf67346f38b30af4ae5e19ae9193da8135068afc9003d191ef17aae1fdf30c@group.calendar.google.com' # Calendar ID (can be found in the calendar's settings)\n",
        "\n",
        "def add_event_to_calendar(CALENDAR_ID, event_summary, event_start_time, event_end_time):\n",
        "    #service = build(\"calendar\", \"v3\", credentials=credentials)\n",
        "    # service = build('calendar', 'v3', developerKey=API_KEY)\n",
        "\n",
        "    # Event details\n",
        "    event = {\n",
        "      'summary': event_summary,\n",
        "      'description': 'update : ' + event_start_time.strftime('%Y-%m-%dT%H:%M:%S'),\n",
        "      'start': {\n",
        "        'dateTime': event_start_time.strftime('%Y-%m-%dT%H:%M:%S'),\n",
        "        'timeZone': 'Asia/Bangkok',\n",
        "      },\n",
        "      'end': {\n",
        "        'dateTime': event_end_time.strftime('%Y-%m-%dT%H:%M:%S'),\n",
        "        'timeZone': 'Asia/Bangkok',\n",
        "      },\n",
        "    }\n",
        "\n",
        "    #service.create_event(event)\n",
        "\n",
        "    #print(event)\n",
        "\n",
        "    # Call the Calendar API to add the event\n",
        "    event = service.events().insert(calendarId=CALENDAR_ID, body=event).execute()"
      ]
    },
    {
      "cell_type": "code",
      "execution_count": 174,
      "metadata": {
        "id": "IL4dLu2R1IT8"
      },
      "outputs": [],
      "source": [
        "def clearEvent(CALENDAR_ID):\n",
        "  page_token = None\n",
        "  while True:\n",
        "    events = service.events().list(calendarId=CALENDAR_ID, pageToken=page_token).execute()\n",
        "    for event in events['items']:\n",
        "      service.events().delete(calendarId=CALENDAR_ID, eventId=event[\"id\"]).execute()\n",
        "    page_token = events.get('nextPageToken')\n",
        "    if not page_token:\n",
        "      break"
      ]
    },
    {
      "cell_type": "markdown",
      "metadata": {
        "id": "ir6lRYIhmfes"
      },
      "source": [
        "# Working Space"
      ]
    },
    {
      "cell_type": "code",
      "execution_count": 165,
      "metadata": {
        "id": "MU0222IGnqnc"
      },
      "outputs": [],
      "source": [
        "#ESCK_Class = ['4E','4S','4C','5E','5S','5C','6E','6S','6C','AU1/1','AU1/2','BI1/1','BI1/2','AU2/1','AU2/2','AU3/1']\n",
        "ESC_Class = ['4E','4S','4C','5E','5S','5C','6E','6S','6C']\n",
        "calendar_id ={\n",
        "    '4E' : \"c_7493eafab5255a71d0f49cdf93fe528a6601e79fe11cf1c0cf7a437af67f6125@group.calendar.google.com\",\n",
        "    '4S' : \"c_92d7fdce936e171e0dfe52f707f3b94bfcd960bc3d1ca3a3225fc8baa3f4744c@group.calendar.google.com\",\n",
        "    '4C' : \"c_1e366f9adb792570cbc8bef95598e778198759504ed7de4908c4e9fcb41ae643@group.calendar.google.com\",\n",
        "    '5E' : \"c_bd5ea29ccaa8769077af807117c6c5f09c782c8095a96e0eefe4a095610925a1@group.calendar.google.com\",\n",
        "    '5S' : \"c_73399ff64a3cf9502c8f5b89b524ddcfedb5964eca2f3880c479c89cf536d1d1@group.calendar.google.com\",\n",
        "    '5C' : \"c_e6cc713d9a9040a17a623f86d905dd608e9aa23a47f2b6f0590a2ceeb069604f@group.calendar.google.com\",\n",
        "    '6E' : \"c_02610126a1fd11d5d0f8240243ff52c8aafd128e7820d912bc268eb4b3cd28f8@group.calendar.google.com\",\n",
        "    '6S' : \"c_8235ec98b028aad723711a32525d0578acadf19ea40de1653d3b0a6d44f8d175@group.calendar.google.com\",\n",
        "    '6C' : \"c_448a21fe4dd324045fcfaa4f25396637576dc645ebab2979d3fef73db3de55ba@group.calendar.google.com\"\n",
        "}"
      ]
    },
    {
      "cell_type": "code",
      "execution_count": 178,
      "metadata": {
        "id": "wSql2kUwmGml"
      },
      "outputs": [],
      "source": [
        "for classroom in ESC_Class:\n",
        "  searching(classroom)   #goToPages\n",
        "  CALENDAR_ID = calendar_id[classroom]\n",
        "  exampleOfLecture = scaping()  #getData\n",
        "  analysedLecture = analyseLecture(exampleOfLecture) #analyseData to day / str /end / subject\n",
        "  service = build(\"calendar\", \"v3\", credentials=credentials)\n",
        "  clearEvent(CALENDAR_ID)\n",
        "  for item in analysedLecture:\n",
        "    add_event_to_calendar(CALENDAR_ID,item.subject, item.start, item.end)"
      ]
    }
  ],
  "metadata": {
    "colab": {
      "collapsed_sections": [
        "SE558Gp2ZK22",
        "s5s9WJwlBI89"
      ],
      "include_colab_link": true,
      "provenance": []
    },
    "kernelspec": {
      "display_name": "Python 3",
      "name": "python3"
    },
    "language_info": {
      "name": "python"
    }
  },
  "nbformat": 4,
  "nbformat_minor": 0
}
