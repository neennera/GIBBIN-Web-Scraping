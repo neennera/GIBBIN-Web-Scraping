{
  "nbformat": 4,
  "nbformat_minor": 0,
  "metadata": {
    "colab": {
      "provenance": [],
      "authorship_tag": "ABX9TyNKgaczu4k9OwZ3ApL6zsU0",
      "include_colab_link": true
    },
    "kernelspec": {
      "name": "python3",
      "display_name": "Python 3"
    },
    "language_info": {
      "name": "python"
    }
  },
  "cells": [
    {
      "cell_type": "markdown",
      "metadata": {
        "id": "view-in-github",
        "colab_type": "text"
      },
      "source": [
        "<a href=\"https://colab.research.google.com/github/neennera/GIBBIN-Web-Scraping/blob/main/WebScaping.ipynb\" target=\"_parent\"><img src=\"https://colab.research.google.com/assets/colab-badge.svg\" alt=\"Open In Colab\"/></a>"
      ]
    },
    {
      "cell_type": "markdown",
      "source": [
        "\n",
        "\n",
        "---\n",
        "\n"
      ],
      "metadata": {
        "id": "yCIl1PYTTpWt"
      }
    },
    {
      "cell_type": "markdown",
      "source": [
        "# Open Chrome using Selenium"
      ],
      "metadata": {
        "id": "7UzV4SFGYy5f"
      }
    },
    {
      "cell_type": "code",
      "source": [
        "#Set up Chrome Driver\n",
        "!pip install selenium\n",
        "!apt-get update # to update ubuntu to correctly run apt install\n",
        "!apt install chromium-chromedriver\n",
        "!cp /usr/lib/chromium-browser/chromedriver /usr/bin\n",
        "import sys\n",
        "sys.path.insert(0,'/usr/lib/chromium-browser/chromedriver')"
      ],
      "metadata": {
        "id": "TE_E8leTXfr-"
      },
      "execution_count": null,
      "outputs": []
    },
    {
      "cell_type": "code",
      "source": [
        "#ระบุตำแหน่งของเว็บปลายทาง\n",
        "destination = \"https://esc.kmutt.ac.th/index.php\""
      ],
      "metadata": {
        "id": "K7Mc6kikLK3J"
      },
      "execution_count": 1,
      "outputs": []
    },
    {
      "cell_type": "code",
      "source": [
        "#Open Chrome\n",
        "from selenium import webdriver\n",
        "chrome_options = webdriver.ChromeOptions()\n",
        "chrome_options.add_argument('--headless')\n",
        "chrome_options.add_argument('--no-sandbox')\n",
        "chrome_options.add_argument('--disable-dev-shm-usage')\n",
        "wd = webdriver.Chrome('chromedriver',options=chrome_options)"
      ],
      "metadata": {
        "id": "haYU2moQX9Ev"
      },
      "execution_count": 4,
      "outputs": []
    },
    {
      "cell_type": "code",
      "source": [
        "#Open Website\n",
        "driver = webdriver.Chrome('chromedriver',options=chrome_options)\n",
        "driver.get(destination)"
      ],
      "metadata": {
        "id": "tO9Fea0qYEEv"
      },
      "execution_count": 5,
      "outputs": []
    },
    {
      "cell_type": "code",
      "source": [
        "from selenium.webdriver.common.by import By\n",
        "from selenium.webdriver.support.ui import WebDriverWait\n",
        "from selenium.webdriver.support import expected_conditions as EC\n",
        "\n",
        "username = 'xxxxxxxx'\n",
        "password = 'xxxxxxx.'\n",
        "\n",
        "username_input = driver.find_element(\"id\",\"username\")\n",
        "username_input.send_keys(username)\n",
        "\n",
        "pass_input = driver.find_element(\"id\",\"password\")\n",
        "pass_input.send_keys(password)\n",
        "\n",
        "search_box = driver.find_element(\"id\",\"loginForm\")\n",
        "search_box.submit()\n",
        "\n",
        "\n",
        "\n",
        "# user_input = driver.find_element(\"username\",\"q\")"
      ],
      "metadata": {
        "id": "hviFQ9Egdvl5"
      },
      "execution_count": 6,
      "outputs": []
    },
    {
      "cell_type": "markdown",
      "source": [
        "\n",
        "\n",
        "---\n",
        "\n",
        "# Web Scraping\n",
        "- Get HTML source code using BeautifulSoup\n",
        "- Read and transfer code to lecture data using HTMLParser"
      ],
      "metadata": {
        "id": "SE558Gp2ZK22"
      }
    },
    {
      "cell_type": "code",
      "source": [
        "from bs4 import BeautifulSoup\n",
        "import requests\n",
        "import pandas as pd"
      ],
      "metadata": {
        "id": "5z-shkeGZUre"
      },
      "execution_count": 8,
      "outputs": []
    },
    {
      "cell_type": "code",
      "source": [
        "# driver.get(destination)\n",
        "soup =  BeautifulSoup(driver.page_source, 'html.parser')"
      ],
      "metadata": {
        "id": "UG3DfGDQYRg-"
      },
      "execution_count": 9,
      "outputs": []
    },
    {
      "cell_type": "code",
      "source": [
        "lecture = []"
      ],
      "metadata": {
        "id": "JIozaHqt6S1H"
      },
      "execution_count": 27,
      "outputs": []
    },
    {
      "cell_type": "code",
      "source": [
        "for i in range(0,5):\n",
        "  get_div = driver.find_element('xpath','//*[@id=\"ttWrapper\"]/table/tbody/tr[3]/td[' + str(i+2) + ']')\n",
        "  lecture.append(get_div.get_attribute('innerHTML'))"
      ],
      "metadata": {
        "id": "HlEDIIBL3r3n"
      },
      "execution_count": 29,
      "outputs": []
    },
    {
      "cell_type": "code",
      "source": [
        "from html.parser import HTMLParser\n",
        "\n",
        "class MyHTMLParser(HTMLParser):\n",
        "  def __init__(self):\n",
        "    HTMLParser.__init__(self)\n",
        "    HTMLParser.unwanted_tag = ['div','i','a','br']\n",
        "    HTMLParser.lectuteInWeek = []\n",
        "    HTMLParser.day = 0\n",
        "\n",
        "  def GetLectuteInWeek(self, HTMLtext):\n",
        "    for i in range(0,5):\n",
        "      HTMLParser.lectuteInWeek.append([])\n",
        "      parser.feed(HTMLtext[i])\n",
        "      HTMLParser.day += 1\n",
        "    return HTMLParser.lectuteInWeek\n",
        "  \n",
        "  def handle_data(self, data):\n",
        "    # print(\"Encountered some data  :\", data)\n",
        "    HTMLParser.lectuteInWeek[HTMLParser.day].append(data)\n",
        "\n",
        "  # def handle_starttag(self, tag, attrs):\n",
        "  #   if not(tag in HTMLParser.unwanted_tag) :\n",
        "  #     print(\"Encountered a start tag:\", tag)\n",
        "\n",
        "  # def handle_endtag(self, tag):\n",
        "  #   if not(tag in HTMLParser.unwanted_tag) :\n",
        "  #     print(\"Encountered an end tag :\", tag)\n",
        "\n",
        "parser = MyHTMLParser()\n",
        "lectureInWeek = parser.GetLectuteInWeek(lecture)"
      ],
      "metadata": {
        "id": "wrdyS8OF-lA-"
      },
      "execution_count": null,
      "outputs": []
    },
    {
      "cell_type": "code",
      "source": [
        "lectureInWeek[2]"
      ],
      "metadata": {
        "colab": {
          "base_uri": "https://localhost:8080/"
        },
        "id": "OcJl-SGrFmXW",
        "outputId": "b48d82f5-a707-47e4-b286-7a7bee15a201"
      },
      "execution_count": 75,
      "outputs": [
        {
          "output_type": "execute_result",
          "data": {
            "text/plain": [
              "['ESC714',\n",
              " '09:00 - 11:00',\n",
              " 'ESC726',\n",
              " '09:00 - 11:00',\n",
              " 'ESC728',\n",
              " '09:00 - 11:00',\n",
              " 'ESC623',\n",
              " '11:00 - 12:00',\n",
              " 'ESC623',\n",
              " '13:00 - 14:00',\n",
              " 'ESC711',\n",
              " '14:00 - 16:00',\n",
              " 'ESC723',\n",
              " '14:00 - 16:00',\n",
              " 'ESC725',\n",
              " '14:00 - 16:00',\n",
              " 'ESC 714.1',\n",
              " 'Divergence, curl and second derivatives',\n",
              " 'ESC 623.6C',\n",
              " 'solving your model',\n",
              " 'ESC 623.6C',\n",
              " 'solving your model',\n",
              " 'ESC 711.1',\n",
              " 'Basic integration, integrability']"
            ]
          },
          "metadata": {},
          "execution_count": 75
        }
      ]
    }
  ]
}