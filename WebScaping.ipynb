{
  "nbformat": 4,
  "nbformat_minor": 0,
  "metadata": {
    "colab": {
      "provenance": [],
      "collapsed_sections": [
        "SE558Gp2ZK22",
        "frjy5dcCLlJ2"
      ],
      "authorship_tag": "ABX9TyM7NlRikz34lXnS2TyQZeUd",
      "include_colab_link": true
    },
    "kernelspec": {
      "name": "python3",
      "display_name": "Python 3"
    },
    "language_info": {
      "name": "python"
    }
  },
  "cells": [
    {
      "cell_type": "markdown",
      "metadata": {
        "id": "view-in-github",
        "colab_type": "text"
      },
      "source": [
        "<a href=\"https://colab.research.google.com/github/neennera/GIBBIN-Web-Scraping/blob/main/WebScaping.ipynb\" target=\"_parent\"><img src=\"https://colab.research.google.com/assets/colab-badge.svg\" alt=\"Open In Colab\"/></a>"
      ]
    },
    {
      "cell_type": "markdown",
      "source": [
        "\n",
        "\n",
        "---\n",
        "\n"
      ],
      "metadata": {
        "id": "yCIl1PYTTpWt"
      }
    },
    {
      "cell_type": "markdown",
      "source": [
        "# [Bug] Open Chrome using Selenium"
      ],
      "metadata": {
        "id": "7UzV4SFGYy5f"
      }
    },
    {
      "cell_type": "code",
      "source": [
        "#Set up Chrome Driver\n",
        "!pip install selenium\n",
        "!apt-get update # to update ubuntu to correctly run apt install\n",
        "!apt install chromium-chromedriver\n",
        "!cp /usr/lib/chromium-browser/chromedriver /usr/bin\n",
        "import sys\n",
        "sys.path.insert(0,'/usr/lib/chromium-browser/chromedriver')"
      ],
      "metadata": {
        "id": "TE_E8leTXfr-"
      },
      "execution_count": null,
      "outputs": []
    },
    {
      "cell_type": "code",
      "source": [
        "#ระบุตำแหน่งของเว็บปลายทาง\n",
        "destination = \"https://esc.kmutt.ac.th/index.php\""
      ],
      "metadata": {
        "id": "K7Mc6kikLK3J"
      },
      "execution_count": null,
      "outputs": []
    },
    {
      "cell_type": "code",
      "source": [
        "#Open Chrome\n",
        "from selenium import webdriver\n",
        "chrome_options = webdriver.ChromeOptions()\n",
        "chrome_options.add_argument('--headless')\n",
        "chrome_options.add_argument('--no-sandbox')\n",
        "chrome_options.add_argument('--disable-dev-shm-usage')\n",
        "wd = webdriver.Chrome('chromedriver',options=chrome_options)"
      ],
      "metadata": {
        "id": "haYU2moQX9Ev"
      },
      "execution_count": null,
      "outputs": []
    },
    {
      "cell_type": "code",
      "source": [
        "#Open Website\n",
        "driver = webdriver.Chrome('chromedriver',options=chrome_options)\n",
        "driver.get(destination)"
      ],
      "metadata": {
        "id": "tO9Fea0qYEEv"
      },
      "execution_count": null,
      "outputs": []
    },
    {
      "cell_type": "code",
      "source": [
        "from selenium.webdriver.common.by import By\n",
        "from selenium.webdriver.support.ui import WebDriverWait\n",
        "from selenium.webdriver.support import expected_conditions as EC\n",
        "\n",
        "\n",
        "username_input = driver.find_element(\"id\",\"username\")\n",
        "username_input.send_keys(gibbon_username)\n",
        "\n",
        "pass_input = driver.find_element(\"id\",\"password\")\n",
        "pass_input.send_keys(gibbon_password)\n",
        "\n",
        "search_box = driver.find_element(\"id\",\"loginForm\")\n",
        "search_box.submit()\n",
        "\n",
        "\n",
        "\n",
        "# user_input = driver.find_element(\"username\",\"q\")"
      ],
      "metadata": {
        "id": "BeaGnMGGK2Qy"
      },
      "execution_count": null,
      "outputs": []
    },
    {
      "cell_type": "markdown",
      "source": [
        "# [FIXED] open google chrom by selenium\n",
        "support ubuntu 20.04 due to colab update ubanto version"
      ],
      "metadata": {
        "id": "rebYpD29KYSD"
      }
    },
    {
      "cell_type": "code",
      "source": [
        "destination = \"https://esc.kmutt.ac.th/index.php\""
      ],
      "metadata": {
        "id": "9p5xZAi-IyTT"
      },
      "execution_count": 1,
      "outputs": []
    },
    {
      "cell_type": "code",
      "source": [
        "%%shell\n",
        "# Ubuntu no longer distributes chromium-browser outside of snap\n",
        "#\n",
        "# Proposed solution: https://askubuntu.com/questions/1204571/how-to-install-chromium-without-snap\n",
        "\n",
        "# Add debian buster\n",
        "cat > /etc/apt/sources.list.d/debian.list <<'EOF'\n",
        "deb [arch=amd64 signed-by=/usr/share/keyrings/debian-buster.gpg] http://deb.debian.org/debian buster main\n",
        "deb [arch=amd64 signed-by=/usr/share/keyrings/debian-buster-updates.gpg] http://deb.debian.org/debian buster-updates main\n",
        "deb [arch=amd64 signed-by=/usr/share/keyrings/debian-security-buster.gpg] http://deb.debian.org/debian-security buster/updates main\n",
        "EOF\n",
        "\n",
        "# Add keys\n",
        "apt-key adv --keyserver keyserver.ubuntu.com --recv-keys DCC9EFBF77E11517\n",
        "apt-key adv --keyserver keyserver.ubuntu.com --recv-keys 648ACFD622F3D138\n",
        "apt-key adv --keyserver keyserver.ubuntu.com --recv-keys 112695A0E562B32A\n",
        "\n",
        "apt-key export 77E11517 | gpg --dearmour -o /usr/share/keyrings/debian-buster.gpg\n",
        "apt-key export 22F3D138 | gpg --dearmour -o /usr/share/keyrings/debian-buster-updates.gpg\n",
        "apt-key export E562B32A | gpg --dearmour -o /usr/share/keyrings/debian-security-buster.gpg\n",
        "\n",
        "# Prefer debian repo for chromium* packages only\n",
        "# Note the double-blank lines between entries\n",
        "cat > /etc/apt/preferences.d/chromium.pref << 'EOF'\n",
        "Package: *\n",
        "Pin: release a=eoan\n",
        "Pin-Priority: 500\n",
        "\n",
        "\n",
        "Package: *\n",
        "Pin: origin \"deb.debian.org\"\n",
        "Pin-Priority: 300\n",
        "\n",
        "\n",
        "Package: chromium*\n",
        "Pin: origin \"deb.debian.org\"\n",
        "Pin-Priority: 700\n",
        "EOF\n",
        "\n",
        "# Install chromium and chromium-driver\n",
        "apt-get update\n",
        "apt-get install chromium chromium-driver\n",
        "\n",
        "# Install selenium\n",
        "pip install selenium"
      ],
      "metadata": {
        "id": "N3-VLQh0tUg_"
      },
      "execution_count": null,
      "outputs": []
    },
    {
      "cell_type": "code",
      "source": [
        "from selenium import webdriver\n",
        "from selenium.webdriver.chrome.options import Options\n",
        "\n",
        "options = Options()\n",
        "options.add_argument(\"--headless\")\n",
        "options.add_argument(\"--no-sandbox\")\n",
        "\n",
        "options.headless = True\n",
        "\n",
        "driver = webdriver.Chrome(\"/usr/bin/chromedriver\", options=options)\n",
        "\n",
        "driver.get(destination)\n",
        "print(driver.title)"
      ],
      "metadata": {
        "id": "x4JCoxqSJazi",
        "colab": {
          "base_uri": "https://localhost:8080/"
        },
        "outputId": "be80d50a-3b4f-4b02-fa59-cea7566947d1"
      },
      "execution_count": 9,
      "outputs": [
        {
          "output_type": "stream",
          "name": "stderr",
          "text": [
            "<ipython-input-9-e12a53def73d>:10: DeprecationWarning: executable_path has been deprecated, please pass in a Service object\n",
            "  driver = webdriver.Chrome(\"/usr/bin/chromedriver\", options=options)\n"
          ]
        },
        {
          "output_type": "stream",
          "name": "stdout",
          "text": [
            "ESC - ESC\n"
          ]
        }
      ]
    },
    {
      "cell_type": "markdown",
      "source": [
        "\n",
        "\n",
        "---\n",
        "\n",
        "# Web Scraping\n",
        "- Get HTML source code using BeautifulSoup\n",
        "- Read and transfer code to lecture data using HTMLParser"
      ],
      "metadata": {
        "id": "SE558Gp2ZK22"
      }
    },
    {
      "cell_type": "code",
      "source": [
        "from selenium.webdriver.common.by import By\n",
        "from selenium.webdriver.support.ui import WebDriverWait\n",
        "from selenium.webdriver.support import expected_conditions as EC\n",
        "\n",
        "\n",
        "username_input = driver.find_element(\"id\",\"username\")\n",
        "username_input.send_keys(gibbon_username)\n",
        "\n",
        "pass_input = driver.find_element(\"id\",\"password\")\n",
        "pass_input.send_keys(gibbon_password)\n",
        "\n",
        "search_box = driver.find_element(\"id\",\"loginForm\")\n",
        "search_box.submit()\n",
        "\n",
        "\n",
        "\n",
        "# user_input = driver.find_element(\"username\",\"q\")"
      ],
      "metadata": {
        "id": "hviFQ9Egdvl5"
      },
      "execution_count": 10,
      "outputs": []
    },
    {
      "cell_type": "code",
      "source": [
        "from bs4 import BeautifulSoup\n",
        "import requests\n",
        "import pandas as pd"
      ],
      "metadata": {
        "id": "5z-shkeGZUre"
      },
      "execution_count": 11,
      "outputs": []
    },
    {
      "cell_type": "code",
      "source": [
        "# driver.get(destination)\n",
        "soup =  BeautifulSoup(driver.page_source, 'html.parser')"
      ],
      "metadata": {
        "id": "UG3DfGDQYRg-"
      },
      "execution_count": 12,
      "outputs": []
    },
    {
      "cell_type": "code",
      "source": [
        "lecture = []"
      ],
      "metadata": {
        "id": "JIozaHqt6S1H"
      },
      "execution_count": 13,
      "outputs": []
    },
    {
      "cell_type": "code",
      "source": [
        "for i in range(0,5):\n",
        "  get_div = driver.find_element('xpath','//*[@id=\"ttWrapper\"]/table/tbody/tr[3]/td[' + str(i+2) + ']')\n",
        "  lecture.append(get_div.get_attribute('innerHTML'))"
      ],
      "metadata": {
        "id": "HlEDIIBL3r3n"
      },
      "execution_count": 14,
      "outputs": []
    },
    {
      "cell_type": "code",
      "source": [
        "from html.parser import HTMLParser\n",
        "\n",
        "class MyHTMLParser(HTMLParser):\n",
        "  def __init__(self):\n",
        "    HTMLParser.__init__(self)\n",
        "    HTMLParser.unwanted_tag = ['div','i','a','br']\n",
        "    HTMLParser.lectuteInWeek = []\n",
        "    HTMLParser.day = 0\n",
        "\n",
        "  def GetLectuteInWeek(self, HTMLtext):\n",
        "    for i in range(0,5):\n",
        "      HTMLParser.lectuteInWeek.append([])\n",
        "      parser.feed(HTMLtext[i])\n",
        "      HTMLParser.day += 1\n",
        "    return HTMLParser.lectuteInWeek\n",
        "  \n",
        "  def handle_data(self, data):\n",
        "    # print(\"Encountered some data  :\", data)\n",
        "    HTMLParser.lectuteInWeek[HTMLParser.day].append(data)\n",
        "\n",
        "  # def handle_starttag(self, tag, attrs):\n",
        "  #   if not(tag in HTMLParser.unwanted_tag) :\n",
        "  #     print(\"Encountered a start tag:\", tag)\n",
        "\n",
        "  # def handle_endtag(self, tag):\n",
        "  #   if not(tag in HTMLParser.unwanted_tag) :\n",
        "  #     print(\"Encountered an end tag :\", tag)\n",
        "\n",
        "parser = MyHTMLParser()\n",
        "lectureInWeek = parser.GetLectuteInWeek(lecture)"
      ],
      "metadata": {
        "id": "wrdyS8OF-lA-"
      },
      "execution_count": 15,
      "outputs": []
    },
    {
      "cell_type": "markdown",
      "source": [
        "# Analyse Data"
      ],
      "metadata": {
        "id": "frjy5dcCLlJ2"
      }
    },
    {
      "cell_type": "code",
      "source": [
        "temp = lectureInWeek.copy()"
      ],
      "metadata": {
        "id": "OcJl-SGrFmXW"
      },
      "execution_count": 16,
      "outputs": []
    },
    {
      "cell_type": "code",
      "source": [
        "class lecture:\n",
        "  def __init__(self, day=-1 , start=-1, end=-1, subject=\"none\", className=\"none\"):\n",
        "    self.day = day\n",
        "    self.start = start\n",
        "    self.end = end\n",
        "    self.className = className\n",
        "    self.subject = subject"
      ],
      "metadata": {
        "id": "lObAPU6lNV9m"
      },
      "execution_count": 17,
      "outputs": []
    },
    {
      "cell_type": "code",
      "source": [
        "lectureData = []"
      ],
      "metadata": {
        "id": "r91O2c-sQVS1"
      },
      "execution_count": 18,
      "outputs": []
    },
    {
      "cell_type": "code",
      "source": [
        "for day in range(0,5):\n",
        "  temp = lectureInWeek[day].copy()\n",
        "  i=0\n",
        "  while i< len(temp): \n",
        "    if temp[i][0:4] == \"ESC \":  \n",
        "      \n",
        "      #get subject and class name\n",
        "      subject = temp[i][0:3] + temp[i][4:-2]\n",
        "      if subject[-1] == \".\":\n",
        "        subject = subject[:-1]\n",
        "      className = temp[i+1]\n",
        "\n",
        "      # get time\n",
        "      timeIndex = temp.index(subject) +1\n",
        "      time = temp[timeIndex]\n",
        "      start = time[0:5]\n",
        "      end = time[-5:]\n",
        "      \n",
        "      # remove read class\n",
        "      temp.remove(subject)\n",
        "      temp.remove(time)\n",
        "\n",
        "      #append data\n",
        "      print(str(day) + \"  \" + subject + \" ; \" + className + \" ; \", start + \" \" + end)\n",
        "      lectureData.append(lecture(day,start,end,subject,className))\n",
        "      continue\n",
        "\n",
        "    if temp[i] == \"School Closed\":\n",
        "      print(str(day) + \"  \" + \"School Closed\")\n",
        "      lectureData.append(lecture(day, \"08:00\" , \"16:00\", \"School Closed\"))\n",
        "      break\n",
        "    \n",
        "    i+=1"
      ],
      "metadata": {
        "id": "SYYwrTuIMrh-",
        "colab": {
          "base_uri": "https://localhost:8080/",
          "height": 460
        },
        "outputId": "14ed44fd-67ec-4f06-890b-242e925d06da"
      },
      "execution_count": 19,
      "outputs": [
        {
          "output_type": "stream",
          "name": "stdout",
          "text": [
            "0  ESC625 ; Pollution I ;  09:00 11:00\n",
            "0  ESC624 ; Nervous System II ;  12:00 14:00\n",
            "0  ESC652 ; Unit 10 Opener: Social Living  ;  14:00 15:00\n",
            "0  ESC642 ; ทดสอบทักษะการทำคะแนน(ตบ) ;  15:00 16:00\n",
            "1  ESC625 ; Pollution II ;  09:00 11:00\n",
            "1  ESC625 ; 6 ตุลา 19 ;  12:00 14:00\n",
            "1  ESC652 ; Quiz 2 & Unit 10A: A Co-Operative Society  ;  14:00 16:00\n",
            "1  ESC621 ; (EXT) การเข้ารหัสถอดรหัส 2 ;  20:00 22:00\n",
            "2  ESC624 ; Gifted Hand Movie ;  09:00 11:00\n",
            "2  ESC621 ; การเข้ารหัสถอดรหัส 1 ;  12:00 14:00\n",
            "2  ESC625 ; Pollution III ;  14:00 16:00\n",
            "2  ESC625 ; (EXT) Self-study ;  16:00 18:00\n",
            "3  ESC625 ; การเมืองไทยหลังยุค 6 ตุลา 2519-พฤษภาทมิฬ 2535 ;  09:00 11:00\n"
          ]
        },
        {
          "output_type": "error",
          "ename": "ValueError",
          "evalue": "ignored",
          "traceback": [
            "\u001b[0;31m---------------------------------------------------------------------------\u001b[0m",
            "\u001b[0;31mValueError\u001b[0m                                Traceback (most recent call last)",
            "\u001b[0;32m<ipython-input-19-8f48399c655e>\u001b[0m in \u001b[0;36m<module>\u001b[0;34m\u001b[0m\n\u001b[1;32m     12\u001b[0m \u001b[0;34m\u001b[0m\u001b[0m\n\u001b[1;32m     13\u001b[0m       \u001b[0;31m# get time\u001b[0m\u001b[0;34m\u001b[0m\u001b[0;34m\u001b[0m\u001b[0;34m\u001b[0m\u001b[0m\n\u001b[0;32m---> 14\u001b[0;31m       \u001b[0mtimeIndex\u001b[0m \u001b[0;34m=\u001b[0m \u001b[0mtemp\u001b[0m\u001b[0;34m.\u001b[0m\u001b[0mindex\u001b[0m\u001b[0;34m(\u001b[0m\u001b[0msubject\u001b[0m\u001b[0;34m)\u001b[0m \u001b[0;34m+\u001b[0m\u001b[0;36m1\u001b[0m\u001b[0;34m\u001b[0m\u001b[0;34m\u001b[0m\u001b[0m\n\u001b[0m\u001b[1;32m     15\u001b[0m       \u001b[0mtime\u001b[0m \u001b[0;34m=\u001b[0m \u001b[0mtemp\u001b[0m\u001b[0;34m[\u001b[0m\u001b[0mtimeIndex\u001b[0m\u001b[0;34m]\u001b[0m\u001b[0;34m\u001b[0m\u001b[0;34m\u001b[0m\u001b[0m\n\u001b[1;32m     16\u001b[0m       \u001b[0mstart\u001b[0m \u001b[0;34m=\u001b[0m \u001b[0mtime\u001b[0m\u001b[0;34m[\u001b[0m\u001b[0;36m0\u001b[0m\u001b[0;34m:\u001b[0m\u001b[0;36m5\u001b[0m\u001b[0;34m]\u001b[0m\u001b[0;34m\u001b[0m\u001b[0;34m\u001b[0m\u001b[0m\n",
            "\u001b[0;31mValueError\u001b[0m: 'ESC712' is not in list"
          ]
        }
      ]
    }
  ]
}