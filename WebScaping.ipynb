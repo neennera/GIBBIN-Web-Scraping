{
  "nbformat": 4,
  "nbformat_minor": 0,
  "metadata": {
    "colab": {
      "provenance": [],
      "collapsed_sections": [
        "rebYpD29KYSD",
        "SE558Gp2ZK22",
        "s5s9WJwlBI89",
        "4QX-0nS9g3z4"
      ],
      "include_colab_link": true
    },
    "kernelspec": {
      "name": "python3",
      "display_name": "Python 3"
    },
    "language_info": {
      "name": "python"
    }
  },
  "cells": [
    {
      "cell_type": "markdown",
      "metadata": {
        "id": "view-in-github",
        "colab_type": "text"
      },
      "source": [
        "<a href=\"https://colab.research.google.com/github/neennera/GIBBIN-Web-Scraping/blob/main/WebScaping.ipynb\" target=\"_parent\"><img src=\"https://colab.research.google.com/assets/colab-badge.svg\" alt=\"Open In Colab\"/></a>"
      ]
    },
    {
      "cell_type": "markdown",
      "source": [
        "\n",
        "\n",
        "---\n",
        "\n"
      ],
      "metadata": {
        "id": "yCIl1PYTTpWt"
      }
    },
    {
      "cell_type": "markdown",
      "source": [
        "# Open google chrom by selenium\n",
        "support ubuntu 20.04 due to colab update ubanto version"
      ],
      "metadata": {
        "id": "rebYpD29KYSD"
      }
    },
    {
      "cell_type": "code",
      "source": [
        "destination = \"https://esc.kmutt.ac.th/index.php\""
      ],
      "metadata": {
        "id": "9p5xZAi-IyTT"
      },
      "execution_count": 2,
      "outputs": []
    },
    {
      "cell_type": "code",
      "source": [
        "%%shell\n",
        "# Ubuntu no longer distributes chromium-browser outside of snap\n",
        "#\n",
        "# Proposed solution: https://askubuntu.com/questions/1204571/how-to-install-chromium-without-snap\n",
        "\n",
        "# Add debian buster\n",
        "cat > /etc/apt/sources.list.d/debian.list <<'EOF'\n",
        "deb [arch=amd64 signed-by=/usr/share/keyrings/debian-buster.gpg] http://deb.debian.org/debian buster main\n",
        "deb [arch=amd64 signed-by=/usr/share/keyrings/debian-buster-updates.gpg] http://deb.debian.org/debian buster-updates main\n",
        "deb [arch=amd64 signed-by=/usr/share/keyrings/debian-security-buster.gpg] http://deb.debian.org/debian-security buster/updates main\n",
        "EOF\n",
        "\n",
        "# Add keys\n",
        "apt-key adv --keyserver keyserver.ubuntu.com --recv-keys DCC9EFBF77E11517\n",
        "apt-key adv --keyserver keyserver.ubuntu.com --recv-keys 648ACFD622F3D138\n",
        "apt-key adv --keyserver keyserver.ubuntu.com --recv-keys 112695A0E562B32A\n",
        "\n",
        "apt-key export 77E11517 | gpg --dearmour -o /usr/share/keyrings/debian-buster.gpg\n",
        "apt-key export 22F3D138 | gpg --dearmour -o /usr/share/keyrings/debian-buster-updates.gpg\n",
        "apt-key export E562B32A | gpg --dearmour -o /usr/share/keyrings/debian-security-buster.gpg\n",
        "\n",
        "# Prefer debian repo for chromium* packages only\n",
        "# Note the double-blank lines between entries\n",
        "cat > /etc/apt/preferences.d/chromium.pref << 'EOF'\n",
        "Package: *\n",
        "Pin: release a=eoan\n",
        "Pin-Priority: 500\n",
        "\n",
        "\n",
        "Package: *\n",
        "Pin: origin \"deb.debian.org\"\n",
        "Pin-Priority: 300\n",
        "\n",
        "\n",
        "Package: chromium*\n",
        "Pin: origin \"deb.debian.org\"\n",
        "Pin-Priority: 700\n",
        "EOF\n",
        "\n",
        "# Install chromium and chromium-driver\n",
        "apt-get update\n",
        "apt-get install chromium chromium-driver\n",
        "\n",
        "# Install selenium\n",
        "pip install selenium"
      ],
      "metadata": {
        "id": "N3-VLQh0tUg_"
      },
      "execution_count": null,
      "outputs": []
    },
    {
      "cell_type": "code",
      "source": [
        "from selenium import webdriver\n",
        "from selenium.webdriver.chrome.options import Options\n",
        "\n",
        "options = Options()\n",
        "options.add_argument(\"--headless\")\n",
        "options.add_argument(\"--no-sandbox\")\n",
        "\n",
        "options.headless = True\n",
        "\n",
        "driver = webdriver.Chrome(\"/usr/bin/chromedriver\", options=options)\n",
        "\n",
        "driver.get(destination)\n",
        "print(driver.title)"
      ],
      "metadata": {
        "id": "x4JCoxqSJazi",
        "colab": {
          "base_uri": "https://localhost:8080/"
        },
        "outputId": "6f7c321d-1224-42bf-adba-031473aab007"
      },
      "execution_count": 21,
      "outputs": [
        {
          "output_type": "stream",
          "name": "stderr",
          "text": [
            "<ipython-input-21-e12a53def73d>:8: DeprecationWarning: headless property is deprecated, instead use add_argument('--headless') or add_argument('--headless=new')\n",
            "  options.headless = True\n",
            "<ipython-input-21-e12a53def73d>:10: DeprecationWarning: executable_path has been deprecated, please pass in a Service object\n",
            "  driver = webdriver.Chrome(\"/usr/bin/chromedriver\", options=options)\n"
          ]
        },
        {
          "output_type": "stream",
          "name": "stdout",
          "text": [
            "ESC - ESC\n"
          ]
        }
      ]
    },
    {
      "cell_type": "markdown",
      "source": [
        "\n",
        "\n",
        "---\n",
        "\n",
        "# Web Scraping : Go to 'Student' page\n",
        "- Get HTML source code using BeautifulSoup\n",
        "- Read and transfer code to lecture data using HTMLParser"
      ],
      "metadata": {
        "id": "SE558Gp2ZK22"
      }
    },
    {
      "cell_type": "code",
      "source": [
        "from selenium.webdriver.common.by import By\n",
        "from selenium.webdriver.support.ui import WebDriverWait\n",
        "from selenium.webdriver.support import expected_conditions as EC\n",
        "\n",
        "\n",
        "X_path_login_username = '//html/body/div[2]/div[1]/div/div[2]/div/div/div/form/div/div[1]/div[2]/div/input'\n",
        "X_path_login_password = '//html/body/div[2]/div[1]/div/div[2]/div/div/div/form/div/div[2]/div[2]/div/input'\n",
        "X_path_login_submitButton = '//html/body/div[2]/div[1]/div/div[2]/div/div/div/form/div/div[6]/div/input'\n",
        "\n",
        "#username_input = driver.find_element(\"id\",\"username\")\n",
        "username_input = driver.find_element(\"xpath\",X_path_login_username)\n",
        "username_input.send_keys(gibbon_username)\n",
        "\n",
        "password_input = driver.find_element(\"xpath\",X_path_login_password)\n",
        "password_input.send_keys(gibbon_password)\n",
        "\n",
        "login_box = driver.find_element(\"xpath\",X_path_login_submitButton)\n",
        "login_box.submit()"
      ],
      "metadata": {
        "id": "hviFQ9Egdvl5"
      },
      "execution_count": 22,
      "outputs": []
    },
    {
      "cell_type": "code",
      "source": [
        "Xpath_of_learn_button = '//*[@id=\"header-menu\"]/ul/li[3]'\n",
        "Xpath_of_timetable_button = '//*[@id=\"header-menu\"]/ul/li[3]/ul/li[4]/a'\n",
        "\n",
        "driver.find_element('xpath',Xpath_of_learn_button)\n",
        "timetable_page = driver.find_element('xpath',Xpath_of_timetable_button).get_property(\"href\")"
      ],
      "metadata": {
        "id": "IV62ReiOSekx"
      },
      "execution_count": 19,
      "outputs": []
    },
    {
      "cell_type": "code",
      "source": [
        "driver.get(timetable_page)"
      ],
      "metadata": {
        "id": "aHWRmY0uP4hU"
      },
      "execution_count": 20,
      "outputs": []
    },
    {
      "cell_type": "markdown",
      "source": [
        "# Web Scraping : Read the class timetable"
      ],
      "metadata": {
        "id": "s5s9WJwlBI89"
      }
    },
    {
      "cell_type": "code",
      "source": [
        "# from bs4 import BeautifulSoup\n",
        "# import requests\n",
        "import pandas as pd"
      ],
      "metadata": {
        "id": "5z-shkeGZUre"
      },
      "execution_count": 23,
      "outputs": []
    },
    {
      "cell_type": "code",
      "source": [
        "from html.parser import HTMLParser\n",
        "\n",
        "class MyHTMLParser(HTMLParser):\n",
        "  def __init__(self):\n",
        "    HTMLParser.__init__(self)\n",
        "    HTMLParser.unwanted_tag = ['div','i','a','br']\n",
        "    HTMLParser.lectuteInWeek = []\n",
        "    HTMLParser.day = 0\n",
        "\n",
        "  def GetLectuteInWeek(self, HTMLtext):\n",
        "    for i in range(0,7):\n",
        "      HTMLParser.lectuteInWeek.append([])\n",
        "      parser.feed(HTMLtext[i])\n",
        "      HTMLParser.day += 1\n",
        "    return HTMLParser.lectuteInWeek\n",
        "  \n",
        "  def handle_data(self, data):\n",
        "    # print(\"Encountered some data  :\", data)\n",
        "    HTMLParser.lectuteInWeek[HTMLParser.day].append(data)\n",
        "\n",
        "  # def handle_starttag(self, tag, attrs):\n",
        "  #   if not(tag in HTMLParser.unwanted_tag) :\n",
        "  #     print(\"Encountered a start tag:\", tag)\n",
        "\n",
        "  # def handle_endtag(self, tag):\n",
        "  #   if not(tag in HTMLParser.unwanted_tag) :\n",
        "  #     print(\"Encountered an end tag :\", tag)"
      ],
      "metadata": {
        "id": "wrdyS8OF-lA-"
      },
      "execution_count": 24,
      "outputs": []
    },
    {
      "cell_type": "code",
      "source": [
        "parser = MyHTMLParser()"
      ],
      "metadata": {
        "id": "GC6QN2Y2S9h8"
      },
      "execution_count": 25,
      "outputs": []
    },
    {
      "cell_type": "code",
      "source": [
        "Xpath_of_search_box = '//*[@id=\"search\"]'\n",
        "Xpath_of_search_submit_button = '//*[@id=\"ttView\"]/div/div[2]/div/input'\n",
        "Xpath_of_View_detail_button = '//*[@id=\"timetables\"]/table/tbody/tr[1]/td[5]/nav/div/a'\n",
        "\n",
        "def searching(classroom) :\n",
        "  driver.get(timetable_page)\n",
        "  driver.find_element('xpath',Xpath_of_search_box).clear()\n",
        "  driver.find_element('xpath',Xpath_of_search_box).send_keys(classroom)\n",
        "  driver.find_element('xpath',Xpath_of_search_submit_button).submit()\n",
        "  driver.find_element('xpath',Xpath_of_View_detail_button).click()\n",
        "\n",
        "def scaping():\n",
        "  lecture = []\n",
        "  for i in range(0,7):\n",
        "    get_div = driver.find_element('xpath','//*[@id=\"ttWrapper\"]/table/tbody/tr[2]/td[' + str(i+2) + ']')\n",
        "    lecture.append(get_div.get_attribute('innerHTML'))\n",
        "  parser = MyHTMLParser()\n",
        "  lectureInWeek = parser.GetLectuteInWeek(lecture)\n",
        "  return lectureInWeek"
      ],
      "metadata": {
        "id": "cwmJZjEIMyDs"
      },
      "execution_count": 26,
      "outputs": []
    },
    {
      "cell_type": "markdown",
      "source": [
        "# Analyse Data"
      ],
      "metadata": {
        "id": "frjy5dcCLlJ2"
      }
    },
    {
      "cell_type": "code",
      "source": [
        "!wget \"https://drive.google.com/uc?export=download&id=1tEWrEkrIWmbzPnB3gHrA42xFcnFd_C5n\" -O \"token.pkl\""
      ],
      "metadata": {
        "colab": {
          "base_uri": "https://localhost:8080/"
        },
        "id": "DM8uzVTPfMex",
        "outputId": "1ad14e3b-1930-4ec4-ba70-d99ac191f81b"
      },
      "execution_count": 27,
      "outputs": [
        {
          "output_type": "stream",
          "name": "stdout",
          "text": [
            "--2023-02-14 05:19:06--  https://drive.google.com/uc?export=download&id=1tEWrEkrIWmbzPnB3gHrA42xFcnFd_C5n\n",
            "Resolving drive.google.com (drive.google.com)... 64.233.189.102, 64.233.189.100, 64.233.189.138, ...\n",
            "Connecting to drive.google.com (drive.google.com)|64.233.189.102|:443... connected.\n",
            "HTTP request sent, awaiting response... 303 See Other\n",
            "Location: https://doc-04-3c-docs.googleusercontent.com/docs/securesc/ha0ro937gcuc7l7deffksulhg5h7mbp1/k4pmf8i95vldmp762dh2cql6bsq2cil8/1676351925000/13858576460001187906/*/1tEWrEkrIWmbzPnB3gHrA42xFcnFd_C5n?e=download&uuid=d09c1d1c-dd41-48fe-82d4-2661f79c3ad9 [following]\n",
            "Warning: wildcards not supported in HTTP.\n",
            "--2023-02-14 05:19:07--  https://doc-04-3c-docs.googleusercontent.com/docs/securesc/ha0ro937gcuc7l7deffksulhg5h7mbp1/k4pmf8i95vldmp762dh2cql6bsq2cil8/1676351925000/13858576460001187906/*/1tEWrEkrIWmbzPnB3gHrA42xFcnFd_C5n?e=download&uuid=d09c1d1c-dd41-48fe-82d4-2661f79c3ad9\n",
            "Resolving doc-04-3c-docs.googleusercontent.com (doc-04-3c-docs.googleusercontent.com)... 142.250.157.132, 2404:6800:4008:c13::84\n",
            "Connecting to doc-04-3c-docs.googleusercontent.com (doc-04-3c-docs.googleusercontent.com)|142.250.157.132|:443... connected.\n",
            "HTTP request sent, awaiting response... 200 OK\n",
            "Length: 820 [application/octet-stream]\n",
            "Saving to: ‘token.pkl’\n",
            "\n",
            "token.pkl           100%[===================>]     820  --.-KB/s    in 0s      \n",
            "\n",
            "2023-02-14 05:19:07 (34.9 MB/s) - ‘token.pkl’ saved [820/820]\n",
            "\n"
          ]
        }
      ]
    },
    {
      "cell_type": "code",
      "source": [
        "from googleapiclient.discovery import build\n",
        "from datetime import datetime, timedelta"
      ],
      "metadata": {
        "id": "9Bj3nJnQleVR"
      },
      "execution_count": 28,
      "outputs": []
    },
    {
      "cell_type": "code",
      "source": [
        "class lecture:\n",
        "  def __init__(self, day=-1 , start=-1, end=-1, subject=\"none\"):\n",
        "    self.day = day\n",
        "    self.start = start\n",
        "    self.end = end\n",
        "    self.subject = subject\n",
        "\n",
        "# datatime weekday() : mon = 0 ... sun = 6\n",
        "# we will map to sun = 0 ... sat = 6 that we scaping from previous function\n",
        "# set timenow to sunday of the week\n",
        "\n",
        "timenow = datetime.utcnow() + timedelta(hours=7)\n",
        "timenow = timenow + timedelta(days = 0) \n",
        "if(timenow.weekday() != 6) : \n",
        "  timenow = timenow + timedelta(days= - (timenow.weekday()+ 1)   )\n",
        "timenow = datetime(timenow.year, timenow.month, timenow.day)"
      ],
      "metadata": {
        "id": "lObAPU6lNV9m"
      },
      "execution_count": 29,
      "outputs": []
    },
    {
      "cell_type": "code",
      "source": [
        "def analyseLecture(exampleOfLecture) :\n",
        "  lectureData = []\n",
        "  for dayInWeek in range(0,7):\n",
        "    temp = exampleOfLecture[dayInWeek].copy()\n",
        "    i=0\n",
        "    while i< len(temp): \n",
        "      # Very spacial condition for M6 : 7XX class\n",
        "      if temp[i][0:4] == \"ESC7\":  \n",
        "        #get subject and class name\n",
        "        subject = temp[i]\n",
        "        className = \"วิชาเลือก\"\n",
        "\n",
        "        # get time\n",
        "        time = temp[i+1]\n",
        "        start = time[0:5]\n",
        "        end = time[-5:]\n",
        "\n",
        "        startTime = timenow + timedelta(days = dayInWeek) + timedelta(hours=int(start[0:2])) + timedelta(minutes=int(start[3:5]))\n",
        "        endTime = timenow + timedelta(days = dayInWeek) + timedelta(hours=int(end[0:2])) + timedelta(minutes=int(end[3:5]))\n",
        "        #append data\n",
        "        #print(str(dayInWeek) + \"  \" + subject + \" ; \" + className + \" ; \", startTime.strftime('%Y-%m-%dT%H:%M:%S') + \" \" + endTime.strftime('%Y-%m-%dT%H:%M:%S'))\n",
        "        lectureData.append(lecture(dayInWeek,startTime,endTime,subject+\" \"+className))\n",
        "\n",
        "        # remove read class\n",
        "        temp.remove(subject)\n",
        "        temp.remove(time)\n",
        "        continue\n",
        "\n",
        "      # Common class\n",
        "      if (temp[i][0:4] == \"ESC \" and temp[i][0:5] != \"ESC 7\"):  \n",
        "        #get subject and class name\n",
        "        subject = temp[i][0:3] + temp[i][4:-2]\n",
        "        if subject[-1] == \".\":\n",
        "          subject = subject[:-1]\n",
        "\n",
        "        if temp[i+1][0:3] == \"ESC\" :\n",
        "          #noname class\n",
        "          className = \"\"\n",
        "        else :\n",
        "          className = temp[i+1]\n",
        "\n",
        "        # get time\n",
        "        timeIndex = temp.index(subject) +1\n",
        "        time = temp[timeIndex]\n",
        "        start = time[0:5]\n",
        "        end = time[-5:]\n",
        "\n",
        "        startTime = timenow + timedelta(days = dayInWeek) + timedelta(hours=int(start[0:2])) + timedelta(minutes=int(start[3:5]))\n",
        "        endTime = timenow + timedelta(days = dayInWeek) + timedelta(hours=int(end[0:2])) + timedelta(minutes=int(end[3:5]))\n",
        "      \n",
        "        #append data\n",
        "        #print(str(dayInWeek) + \"  \" + subject + \" ; \" + className + \" ; \", startTime.strftime('%Y-%m-%dT%H:%M:%S') + \" \" + endTime.strftime('%Y-%m-%dT%H:%M:%S'))\n",
        "        lectureData.append(lecture(dayInWeek,startTime,endTime,subject+\" \"+className))\n",
        "\n",
        "        # remove read class\n",
        "        temp.remove(subject)\n",
        "        temp.remove(time)\n",
        "\n",
        "        #noname class not have class name, index will be -1\n",
        "        if(className == \"\"):\n",
        "          i=i-1\n",
        "        \n",
        "        continue\n",
        "\n",
        "      if temp[i] == \"School Closed\":\n",
        "        print(str(dayInWeek) + \"  \" + \"School Closed\")\n",
        "        lectureData.append(lecture(dayInWeek, \"08:00\" , \"16:00\", \"School Closed\"))\n",
        "        break\n",
        "      \n",
        "      i+=1\n",
        "  return lectureData"
      ],
      "metadata": {
        "id": "SYYwrTuIMrh-"
      },
      "execution_count": 48,
      "outputs": []
    },
    {
      "cell_type": "markdown",
      "source": [
        "# google calendar function\n",
        "using OAuth 2.0 Client IDs : \"Desktop type\"\n",
        "\n",
        "OAuth consent screen : Internal, but add testing user\n",
        "\n",
        "date 2023/02/05"
      ],
      "metadata": {
        "id": "4QX-0nS9g3z4"
      }
    },
    {
      "cell_type": "code",
      "source": [
        "!sudo pip install --upgrade google-api-python-client"
      ],
      "metadata": {
        "id": "Q23S0ppUns6R",
        "colab": {
          "base_uri": "https://localhost:8080/"
        },
        "outputId": "7507e511-b930-466e-f995-a94c98ec7104"
      },
      "execution_count": 31,
      "outputs": [
        {
          "output_type": "stream",
          "name": "stdout",
          "text": [
            "Looking in indexes: https://pypi.org/simple, https://us-python.pkg.dev/colab-wheels/public/simple/\n",
            "Requirement already satisfied: google-api-python-client in /usr/local/lib/python3.8/dist-packages (2.70.0)\n",
            "Collecting google-api-python-client\n",
            "  Downloading google_api_python_client-2.77.0-py2.py3-none-any.whl (11.0 MB)\n",
            "\u001b[2K     \u001b[90m━━━━━━━━━━━━━━━━━━━━━━━━━━━━━━━━━━━━━━━━\u001b[0m \u001b[32m11.0/11.0 MB\u001b[0m \u001b[31m16.9 MB/s\u001b[0m eta \u001b[36m0:00:00\u001b[0m\n",
            "\u001b[?25hRequirement already satisfied: google-auth<3.0.0dev,>=1.19.0 in /usr/local/lib/python3.8/dist-packages (from google-api-python-client) (2.16.0)\n",
            "Requirement already satisfied: httplib2<1dev,>=0.15.0 in /usr/local/lib/python3.8/dist-packages (from google-api-python-client) (0.17.4)\n",
            "Requirement already satisfied: google-api-core!=2.0.*,!=2.1.*,!=2.2.*,!=2.3.0,<3.0.0dev,>=1.31.5 in /usr/local/lib/python3.8/dist-packages (from google-api-python-client) (2.11.0)\n",
            "Requirement already satisfied: uritemplate<5,>=3.0.1 in /usr/local/lib/python3.8/dist-packages (from google-api-python-client) (4.1.1)\n",
            "Requirement already satisfied: google-auth-httplib2>=0.1.0 in /usr/local/lib/python3.8/dist-packages (from google-api-python-client) (0.1.0)\n",
            "Requirement already satisfied: protobuf!=3.20.0,!=3.20.1,!=4.21.0,!=4.21.1,!=4.21.2,!=4.21.3,!=4.21.4,!=4.21.5,<5.0.0dev,>=3.19.5 in /usr/local/lib/python3.8/dist-packages (from google-api-core!=2.0.*,!=2.1.*,!=2.2.*,!=2.3.0,<3.0.0dev,>=1.31.5->google-api-python-client) (3.19.6)\n",
            "Requirement already satisfied: googleapis-common-protos<2.0dev,>=1.56.2 in /usr/local/lib/python3.8/dist-packages (from google-api-core!=2.0.*,!=2.1.*,!=2.2.*,!=2.3.0,<3.0.0dev,>=1.31.5->google-api-python-client) (1.58.0)\n",
            "Requirement already satisfied: requests<3.0.0dev,>=2.18.0 in /usr/local/lib/python3.8/dist-packages (from google-api-core!=2.0.*,!=2.1.*,!=2.2.*,!=2.3.0,<3.0.0dev,>=1.31.5->google-api-python-client) (2.25.1)\n",
            "Requirement already satisfied: rsa<5,>=3.1.4 in /usr/local/lib/python3.8/dist-packages (from google-auth<3.0.0dev,>=1.19.0->google-api-python-client) (4.9)\n",
            "Requirement already satisfied: pyasn1-modules>=0.2.1 in /usr/local/lib/python3.8/dist-packages (from google-auth<3.0.0dev,>=1.19.0->google-api-python-client) (0.2.8)\n",
            "Requirement already satisfied: six>=1.9.0 in /usr/local/lib/python3.8/dist-packages (from google-auth<3.0.0dev,>=1.19.0->google-api-python-client) (1.15.0)\n",
            "Requirement already satisfied: cachetools<6.0,>=2.0.0 in /usr/local/lib/python3.8/dist-packages (from google-auth<3.0.0dev,>=1.19.0->google-api-python-client) (5.3.0)\n",
            "Requirement already satisfied: pyasn1<0.5.0,>=0.4.6 in /usr/local/lib/python3.8/dist-packages (from pyasn1-modules>=0.2.1->google-auth<3.0.0dev,>=1.19.0->google-api-python-client) (0.4.8)\n",
            "Requirement already satisfied: urllib3<1.27,>=1.21.1 in /usr/local/lib/python3.8/dist-packages (from requests<3.0.0dev,>=2.18.0->google-api-core!=2.0.*,!=2.1.*,!=2.2.*,!=2.3.0,<3.0.0dev,>=1.31.5->google-api-python-client) (1.26.14)\n",
            "Requirement already satisfied: idna<3,>=2.5 in /usr/local/lib/python3.8/dist-packages (from requests<3.0.0dev,>=2.18.0->google-api-core!=2.0.*,!=2.1.*,!=2.2.*,!=2.3.0,<3.0.0dev,>=1.31.5->google-api-python-client) (2.10)\n",
            "Requirement already satisfied: chardet<5,>=3.0.2 in /usr/local/lib/python3.8/dist-packages (from requests<3.0.0dev,>=2.18.0->google-api-core!=2.0.*,!=2.1.*,!=2.2.*,!=2.3.0,<3.0.0dev,>=1.31.5->google-api-python-client) (4.0.0)\n",
            "Requirement already satisfied: certifi>=2017.4.17 in /usr/local/lib/python3.8/dist-packages (from requests<3.0.0dev,>=2.18.0->google-api-core!=2.0.*,!=2.1.*,!=2.2.*,!=2.3.0,<3.0.0dev,>=1.31.5->google-api-python-client) (2022.12.7)\n",
            "Installing collected packages: google-api-python-client\n",
            "  Attempting uninstall: google-api-python-client\n",
            "    Found existing installation: google-api-python-client 2.70.0\n",
            "    Uninstalling google-api-python-client-2.70.0:\n",
            "      Successfully uninstalled google-api-python-client-2.70.0\n",
            "Successfully installed google-api-python-client-2.77.0\n"
          ]
        }
      ]
    },
    {
      "cell_type": "code",
      "source": [
        "import pickle\n",
        "from apiclient.discovery import build\n",
        "from google_auth_oauthlib.flow import InstalledAppFlow"
      ],
      "metadata": {
        "id": "CDk7oRBQd__l"
      },
      "execution_count": 32,
      "outputs": []
    },
    {
      "cell_type": "code",
      "source": [
        "# # OAuth API register\n",
        "# scopes = ['https://www.googleapis.com/auth/calendar']\n",
        "# flow = InstalledAppFlow.from_client_secrets_file(\"desktop.json\", scopes=scopes)\n",
        "# credentials = flow.run_console()\n",
        "# pickle.dump(credentials, open(\"token.pkl\", \"wb\"))"
      ],
      "metadata": {
        "id": "95IeAs8HE3sX"
      },
      "execution_count": 33,
      "outputs": []
    },
    {
      "cell_type": "code",
      "source": [
        "credentials = pickle.load(open(\"token.pkl\", \"rb\"))\n",
        "service = build(\"calendar\", \"v3\", credentials=credentials)"
      ],
      "metadata": {
        "id": "KKg0lYHNd0Xc"
      },
      "execution_count": 34,
      "outputs": []
    },
    {
      "cell_type": "code",
      "source": [
        "## Update google calendar\n",
        "API_KEY = '30068550143-uf6kotbrq4drn4903sh5pt1fnnqrjdk9.apps.googleusercontent.com' # API Key or Client ID (obtained from Google API Console)\n",
        "CALENDAR_ID = 'c_6faf67346f38b30af4ae5e19ae9193da8135068afc9003d191ef17aae1fdf30c@group.calendar.google.com' # Calendar ID (can be found in the calendar's settings)\n",
        "\n",
        "def add_event_to_calendar(CALENDAR_ID, event_summary, event_start_time, event_end_time):\n",
        "    #service = build(\"calendar\", \"v3\", credentials=credentials)\n",
        "    # service = build('calendar', 'v3', developerKey=API_KEY)\n",
        "\n",
        "    # Event details\n",
        "    event = {\n",
        "      'summary': event_summary,\n",
        "      'description': \"update : \"+ str(timenow.strftime('%Y-%m-%dT%H:%M:%S')),\n",
        "      'start': {\n",
        "        'dateTime': event_start_time.strftime('%Y-%m-%dT%H:%M:%S'),\n",
        "        'timeZone': 'Asia/Bangkok',\n",
        "      },\n",
        "      'end': {\n",
        "        'dateTime': event_end_time.strftime('%Y-%m-%dT%H:%M:%S'),\n",
        "        'timeZone': 'Asia/Bangkok',\n",
        "      },\n",
        "    }\n",
        "\n",
        "    #service.create_event(event)\n",
        "\n",
        "    #print(event)\n",
        "\n",
        "    # Call the Calendar API to add the event\n",
        "    event = service.events().insert(calendarId=CALENDAR_ID, body=event).execute()"
      ],
      "metadata": {
        "id": "I_CnOLFHVqqt"
      },
      "execution_count": 35,
      "outputs": []
    },
    {
      "cell_type": "code",
      "source": [
        "def clearEvent(CALENDAR_ID):\n",
        "  page_token = None\n",
        "  while True:\n",
        "    events = service.events().list(calendarId=CALENDAR_ID, pageToken=page_token).execute()\n",
        "    for event in events['items']:\n",
        "      service.events().delete(calendarId=CALENDAR_ID, eventId=event[\"id\"]).execute()\n",
        "    page_token = events.get('nextPageToken')\n",
        "    if not page_token:\n",
        "      break"
      ],
      "metadata": {
        "id": "IL4dLu2R1IT8"
      },
      "execution_count": 36,
      "outputs": []
    },
    {
      "cell_type": "markdown",
      "source": [
        "# Working Space"
      ],
      "metadata": {
        "id": "ir6lRYIhmfes"
      }
    },
    {
      "cell_type": "code",
      "source": [
        "#ESCK_Class = ['4E','4S','4C','5E','5S','5C','6E','6S','6C','AU1/1','AU1/2','BI1/1','BI1/2','AU2/1','AU2/2','AU3/1']\n",
        "ESC_Class = ['4E','4S','4C','5E','5S','5C','6E','6S','6C']\n",
        "calendar_id ={\n",
        "    '4E' : \"c_7493eafab5255a71d0f49cdf93fe528a6601e79fe11cf1c0cf7a437af67f6125@group.calendar.google.com\",\n",
        "    '4S' : \"c_92d7fdce936e171e0dfe52f707f3b94bfcd960bc3d1ca3a3225fc8baa3f4744c@group.calendar.google.com\",\n",
        "    '4C' : \"c_1e366f9adb792570cbc8bef95598e778198759504ed7de4908c4e9fcb41ae643@group.calendar.google.com\",\n",
        "    '5E' : \"c_bd5ea29ccaa8769077af807117c6c5f09c782c8095a96e0eefe4a095610925a1@group.calendar.google.com\",\n",
        "    '5S' : \"c_73399ff64a3cf9502c8f5b89b524ddcfedb5964eca2f3880c479c89cf536d1d1@group.calendar.google.com\",\n",
        "    '5C' : \"c_e6cc713d9a9040a17a623f86d905dd608e9aa23a47f2b6f0590a2ceeb069604f@group.calendar.google.com\",\n",
        "    '6E' : \"c_02610126a1fd11d5d0f8240243ff52c8aafd128e7820d912bc268eb4b3cd28f8@group.calendar.google.com\",\n",
        "    '6S' : \"c_8235ec98b028aad723711a32525d0578acadf19ea40de1653d3b0a6d44f8d175@group.calendar.google.com\",\n",
        "    '6C' : \"c_448a21fe4dd324045fcfaa4f25396637576dc645ebab2979d3fef73db3de55ba@group.calendar.google.com\"\n",
        "}"
      ],
      "metadata": {
        "id": "MU0222IGnqnc"
      },
      "execution_count": 37,
      "outputs": []
    },
    {
      "cell_type": "code",
      "source": [
        "for classroom in ESC_Class:\n",
        "  searching(classroom)   #goToPages\n",
        "  CALENDAR_ID = calendar_id[classroom]\n",
        "  exampleOfLecture = scaping()  #getData\n",
        "  analysedLecture = analyseLecture(exampleOfLecture) #analyseData to day / str /end / subject\n",
        "  service = build(\"calendar\", \"v3\", credentials=credentials)\n",
        "  clearEvent(CALENDAR_ID)\n",
        "  for item in analysedLecture:\n",
        "    add_event_to_calendar(CALENDAR_ID,item.subject, item.start, item.end)\n",
        "  print(\"DONE \"+classroom)"
      ],
      "metadata": {
        "id": "wSql2kUwmGml",
        "colab": {
          "base_uri": "https://localhost:8080/"
        },
        "outputId": "1a068de1-fa58-4fd9-d2c3-4300bd7baf07"
      },
      "execution_count": 49,
      "outputs": [
        {
          "output_type": "stream",
          "name": "stdout",
          "text": [
            "DONE 4E\n",
            "DONE 4S\n",
            "DONE 4C\n",
            "DONE 5E\n",
            "DONE 5S\n",
            "DONE 5C\n",
            "DONE 6E\n",
            "DONE 6S\n",
            "DONE 6C\n"
          ]
        }
      ]
    }
  ]
}