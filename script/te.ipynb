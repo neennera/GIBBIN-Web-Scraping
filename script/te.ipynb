{
 "cells": [
  {
   "cell_type": "code",
   "execution_count": 8,
   "metadata": {},
   "outputs": [],
   "source": [
    "import datetime\n",
    "import os.path\n",
    "import pickle\n",
    "from datetime import *\n",
    "from gcsa.event import Event\n",
    "import pandas as pd"
   ]
  },
  {
   "cell_type": "code",
   "execution_count": null,
   "metadata": {},
   "outputs": [],
   "source": [
    "# pip install gcsa\n",
    "# https://google-calendar-simple-api.readthedocs.io/en/latest/getting_started.html"
   ]
  },
  {
   "cell_type": "markdown",
   "metadata": {},
   "source": [
    "# gcsa\n",
    "\n",
    "'''pip install gcsa'''\n",
    "\n",
    "setup follow : https://google-calendar-simple-api.readthedocs.io/en/latest/getting_started.html\n",
    "\n",
    "\n",
    "1. Create a new Google Cloud Platform (GCP) project\n",
    "\n",
    "        - you will need to enable the “Google Calendar API” for your project.\n",
    "\n",
    "2. Configure the OAuth consent screen\n",
    "\n",
    "        - make it public\n",
    "\n",
    "3. Create a OAuth client ID credential and download the credentials.json file\n",
    "\n",
    "        - type : Desktop App\n",
    "\n",
    "3. Put downloaded credentials.json file into ~/.credentials/ directory"
   ]
  },
  {
   "cell_type": "code",
   "execution_count": 1,
   "metadata": {},
   "outputs": [
    {
     "name": "stdout",
     "output_type": "stream",
     "text": [
      "Please visit this URL to authorize this application: https://accounts.google.com/o/oauth2/auth?response_type=code&client_id=346457178101-d629mreh0a7h7oqbjel1928cjcl3gfs0.apps.googleusercontent.com&redirect_uri=http%3A%2F%2Flocalhost%3A8080%2F&scope=https%3A%2F%2Fwww.googleapis.com%2Fauth%2Fcalendar&state=yUQ19zhVfkr3kQ2wSQC9840YhZhLBf&access_type=offline\n"
     ]
    }
   ],
   "source": [
    "# from gcsa.google_calendar import GoogleCalendar\n",
    "# calendar = GoogleCalendar('neennera@gmail.com',credentials_path='credentials_desktop.json')"
   ]
  },
  {
   "cell_type": "code",
   "execution_count": 2,
   "metadata": {},
   "outputs": [],
   "source": [
    "from gcsa.google_calendar import GoogleCalendar\n",
    "\n",
    "gc = GoogleCalendar(credentials_path='credentials_desktop.json',\n",
    "                    token_path='token.pickle')"
   ]
  },
  {
   "cell_type": "code",
   "execution_count": 56,
   "metadata": {},
   "outputs": [],
   "source": [
    "df = pd.read_csv(\"data2.csv\")\n",
    "\n",
    "for i in range(len(df)) :\n",
    "    date = df.loc[i,\"วันที่\"]\n",
    "    day, month, year = date.split(\"/\")\n",
    "    day, month, year = int(day), int(month), int(year)\n",
    "\n",
    "    date = df.loc[i,\"เวลาเริ่ม\"]\n",
    "    str_h, str_m, str_s = date.split(\":\")\n",
    "    str_h, str_m, str_s = int(str_h), int(str_m), int(str_s)\n",
    "\n",
    "    date = df.loc[i,\"เวลาจบ\"]\n",
    "    end_h, end_m, end_s = date.split(\":\")\n",
    "    end_h, end_m, end_s = int(end_h), int(end_m), int(end_s)\n",
    "\n",
    "    des = str(df.loc[i,\"วิชา\"])+ \" \" + df.loc[i,\"description\"]\n",
    "\n",
    "    subject = \"[\" + df.loc[i,\"type\"] +\"] \" + df.loc[i, \"ชื่อคาบ\"]\n",
    "\n",
    "    event = Event(\n",
    "        subject,\n",
    "        start = datetime(year, month, day , str_h, str_m, str_s),\n",
    "        end = datetime(year, month, day , end_h, end_m, end_s),\n",
    "        description = des,\n",
    "        # location='Záhřebská 468/21',\n",
    "        # minutes_before_popup_reminder=15\n",
    "    )\n",
    "\n",
    "    event = gc.add_event(event)\n",
    "    event = gc.move_event(event, destination_calendar_id=CALENDAR_ID)"
   ]
  },
  {
   "cell_type": "code",
   "execution_count": 54,
   "metadata": {},
   "outputs": [
    {
     "name": "stdout",
     "output_type": "stream",
     "text": [
      "5\n"
     ]
    }
   ],
   "source": [
    "print(5)"
   ]
  },
  {
   "cell_type": "code",
   "execution_count": null,
   "metadata": {},
   "outputs": [],
   "source": [
    "gc.delete_event('<event_id>')"
   ]
  },
  {
   "cell_type": "code",
   "execution_count": 40,
   "metadata": {},
   "outputs": [
    {
     "ename": "TypeError",
     "evalue": "'str' object cannot be interpreted as an integer",
     "output_type": "error",
     "traceback": [
      "\u001b[1;31m---------------------------------------------------------------------------\u001b[0m",
      "\u001b[1;31mTypeError\u001b[0m                                 Traceback (most recent call last)",
      "Cell \u001b[1;32mIn[40], line 3\u001b[0m\n\u001b[0;32m      1\u001b[0m event \u001b[39m=\u001b[39m Event(\n\u001b[0;32m      2\u001b[0m     \u001b[39mstr\u001b[39m(subject),\n\u001b[1;32m----> 3\u001b[0m     start \u001b[39m=\u001b[39m datetime(year, month, day , str_h, str_m, str_s),\n\u001b[0;32m      4\u001b[0m     end \u001b[39m=\u001b[39m datetime(year, month, day , end_h, end_m, end_s),\n\u001b[0;32m      5\u001b[0m     description \u001b[39m=\u001b[39m des,\n\u001b[0;32m      6\u001b[0m     \u001b[39m# location='Záhřebská 468/21',\u001b[39;00m\n\u001b[0;32m      7\u001b[0m     minutes_before_popup_reminder\u001b[39m=\u001b[39m\u001b[39m15\u001b[39m\n\u001b[0;32m      8\u001b[0m )\n",
      "\u001b[1;31mTypeError\u001b[0m: 'str' object cannot be interpreted as an integer"
     ]
    }
   ],
   "source": [
    "event = Event(\n",
    "    subject,\n",
    "    start = datetime(year, month, day , str_h, str_m, str_s),\n",
    "    end = datetime(year, month, day , end_h, end_m, end_s),\n",
    "    description = des,\n",
    "    # location='Záhřebská 468/21',\n",
    "    minutes_before_popup_reminder=15\n",
    ")"
   ]
  },
  {
   "cell_type": "code",
   "execution_count": 7,
   "metadata": {},
   "outputs": [],
   "source": [
    "event = gc.add_event(event)\n",
    "event = gc.move_event(event, destination_calendar_id=CALENDAR_ID)"
   ]
  }
 ],
 "metadata": {
  "kernelspec": {
   "display_name": "base",
   "language": "python",
   "name": "python3"
  },
  "language_info": {
   "codemirror_mode": {
    "name": "ipython",
    "version": 3
   },
   "file_extension": ".py",
   "mimetype": "text/x-python",
   "name": "python",
   "nbconvert_exporter": "python",
   "pygments_lexer": "ipython3",
   "version": "3.10.9"
  },
  "orig_nbformat": 4
 },
 "nbformat": 4,
 "nbformat_minor": 2
}
