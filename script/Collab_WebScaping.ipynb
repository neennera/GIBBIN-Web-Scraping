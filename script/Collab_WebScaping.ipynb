{
  "cells": [
    {
      "cell_type": "markdown",
      "metadata": {
        "id": "yCIl1PYTTpWt"
      },
      "source": [
        "\n",
        "\n",
        "---\n",
        "\n"
      ]
    },
    {
      "cell_type": "markdown",
      "metadata": {
        "id": "rebYpD29KYSD"
      },
      "source": [
        "# Open google chrom by selenium\n",
        "support ubuntu 20.04 due to colab update ubanto version"
      ]
    },
    {
      "cell_type": "code",
      "execution_count": 1,
      "metadata": {
        "id": "Yr4uaNn1wJ58"
      },
      "outputs": [],
      "source": [
        "gibbon_username = \"63010015\"\n",
        "gibbon_password = \"GibbinPass2023.\""
      ]
    },
    {
      "cell_type": "code",
      "execution_count": 2,
      "metadata": {
        "id": "9p5xZAi-IyTT"
      },
      "outputs": [],
      "source": [
        "destination = \"https://esc.kmutt.ac.th/index.php\""
      ]
    },
    {
      "cell_type": "code",
      "execution_count": null,
      "metadata": {
        "id": "N3-VLQh0tUg_"
      },
      "outputs": [],
      "source": [
        "%%shell\n",
        "# Ubuntu no longer distributes chromium-browser outside of snap\n",
        "#\n",
        "# Proposed solution: https://askubuntu.com/questions/1204571/how-to-install-chromium-without-snap\n",
        "\n",
        "# Add debian buster\n",
        "cat > /etc/apt/sources.list.d/debian.list <<'EOF'\n",
        "deb [arch=amd64 signed-by=/usr/share/keyrings/debian-buster.gpg] http://deb.debian.org/debian buster main\n",
        "deb [arch=amd64 signed-by=/usr/share/keyrings/debian-buster-updates.gpg] http://deb.debian.org/debian buster-updates main\n",
        "deb [arch=amd64 signed-by=/usr/share/keyrings/debian-security-buster.gpg] http://deb.debian.org/debian-security buster/updates main\n",
        "EOF\n",
        "\n",
        "# Add keys\n",
        "apt-key adv --keyserver keyserver.ubuntu.com --recv-keys DCC9EFBF77E11517\n",
        "apt-key adv --keyserver keyserver.ubuntu.com --recv-keys 648ACFD622F3D138\n",
        "apt-key adv --keyserver keyserver.ubuntu.com --recv-keys 112695A0E562B32A\n",
        "\n",
        "apt-key export 77E11517 | gpg --dearmour -o /usr/share/keyrings/debian-buster.gpg\n",
        "apt-key export 22F3D138 | gpg --dearmour -o /usr/share/keyrings/debian-buster-updates.gpg\n",
        "apt-key export E562B32A | gpg --dearmour -o /usr/share/keyrings/debian-security-buster.gpg\n",
        "\n",
        "# Prefer debian repo for chromium* packages only\n",
        "# Note the double-blank lines between entries\n",
        "cat > /etc/apt/preferences.d/chromium.pref << 'EOF'\n",
        "Package: *\n",
        "Pin: release a=eoan\n",
        "Pin-Priority: 500\n",
        "\n",
        "\n",
        "Package: *\n",
        "Pin: origin \"deb.debian.org\"\n",
        "Pin-Priority: 300\n",
        "\n",
        "\n",
        "Package: chromium*\n",
        "Pin: origin \"deb.debian.org\"\n",
        "Pin-Priority: 700\n",
        "EOF\n",
        "\n",
        "# Install chromium and chromium-driver\n",
        "apt-get update\n",
        "apt-get install chromium chromium-driver\n",
        "\n",
        "# Install selenium\n",
        "pip install selenium"
      ]
    },
    {
      "cell_type": "code",
      "execution_count": null,
      "metadata": {
        "id": "S1MdRwwRZzGO"
      },
      "outputs": [],
      "source": [
        "# Install google calendar api\n",
        "!sudo pip install --upgrade google-api-python-client\n",
        "!sudo pip install google-api-python-client\n",
        "\n",
        "# Get google calendar token\n",
        "!wget \"https://drive.google.com/uc?export=download&id=1tEWrEkrIWmbzPnB3gHrA42xFcnFd_C5n\" -O \"token.pkl\"\n",
        "\n",
        "#selenium\n",
        "!pip3 install -U selenium\n",
        "!pip3 install webdriver-manager"
      ]
    },
    {
      "cell_type": "code",
      "execution_count": null,
      "metadata": {
        "id": "QekKrPl5IpzB"
      },
      "outputs": [],
      "source": [
        "!sudo pip install --upgrade google-api-python-client"
      ]
    },
    {
      "cell_type": "code",
      "execution_count": 8,
      "metadata": {
        "colab": {
          "base_uri": "https://localhost:8080/"
        },
        "id": "x4JCoxqSJazi",
        "outputId": "e4d9ff24-ce2e-44f3-d856-9e9825ebf33f"
      },
      "outputs": [
        {
          "name": "stderr",
          "output_type": "stream",
          "text": [
            "<ipython-input-8-f7646b1cc1ef>:9: DeprecationWarning: headless property is deprecated, instead use add_argument('--headless') or add_argument('--headless=new')\n",
            "  options.headless = True\n",
            "[WDM] - Downloading: 100%|██████████| 7.05M/7.05M [00:00<00:00, 137MB/s]\n",
            "<ipython-input-8-f7646b1cc1ef>:14: DeprecationWarning: executable_path has been deprecated, please pass in a Service object\n",
            "  driver = webdriver.Chrome(\"/usr/bin/chromedriver\", options=options)\n"
          ]
        },
        {
          "name": "stdout",
          "output_type": "stream",
          "text": [
            "ESC - ESC\n"
          ]
        }
      ],
      "source": [
        "from selenium import webdriver\n",
        "from selenium.webdriver.chrome.options import Options\n",
        "from selenium.webdriver.chrome.service import Service\n",
        "from webdriver_manager.chrome import ChromeDriverManager\n",
        "\n",
        "options = Options()\n",
        "options.add_argument(\"--no-sandbox\")\n",
        "options.add_argument(\"--headless\")\n",
        "options.headless = True\n",
        "\n",
        "try :\n",
        "  driver = webdriver.Chrome(service=Service(ChromeDriverManager().install()),options=options)\n",
        "except :\n",
        "  driver = webdriver.Chrome(\"/usr/bin/chromedriver\", options=options)\n",
        "\n",
        "driver.get(destination)\n",
        "print(driver.title)"
      ]
    },
    {
      "cell_type": "markdown",
      "metadata": {
        "id": "SE558Gp2ZK22"
      },
      "source": [
        "\n",
        "\n",
        "---\n",
        "\n",
        "# Web Scraping : Go to 'Student' page\n",
        "- Get HTML source code using BeautifulSoup\n",
        "- Read and transfer code to lecture data using HTMLParser"
      ]
    },
    {
      "cell_type": "code",
      "execution_count": 9,
      "metadata": {
        "id": "hviFQ9Egdvl5"
      },
      "outputs": [],
      "source": [
        "from selenium.webdriver.common.by import By\n",
        "from selenium.webdriver.support.ui import WebDriverWait\n",
        "from selenium.webdriver.support import expected_conditions as EC\n",
        "\n",
        "\n",
        "X_path_login_username = '//html/body/div[2]/div[1]/div/div[2]/div/div/div/form/div/div[1]/div[2]/div/input'\n",
        "X_path_login_password = '//html/body/div[2]/div[1]/div/div[2]/div/div/div/form/div/div[2]/div[2]/div/input'\n",
        "X_path_login_submitButton = '//html/body/div[2]/div[1]/div/div[2]/div/div/div/form/div/div[6]/div/input'\n",
        "gibbon_username = \"63010015\"\n",
        "gibbon_password = \"GibbinPass2023.\"\n",
        "\n",
        "username_input = driver.find_element(\"xpath\",X_path_login_username)\n",
        "username_input.send_keys(gibbon_username)\n",
        "\n",
        "password_input = driver.find_element(\"xpath\",X_path_login_password)\n",
        "password_input.send_keys(gibbon_password)\n",
        "\n",
        "login_box = driver.find_element(\"xpath\",X_path_login_submitButton)\n",
        "login_box.submit()"
      ]
    },
    {
      "cell_type": "code",
      "execution_count": 10,
      "metadata": {
        "id": "IV62ReiOSekx"
      },
      "outputs": [],
      "source": [
        "Xpath_of_learn_button = '//*[@id=\"header-menu\"]/ul/li[3]'\n",
        "Xpath_of_timetable_button = '//*[@id=\"header-menu\"]/ul/li[3]/ul/li[4]/a'\n",
        "\n",
        "driver.find_element('xpath',Xpath_of_learn_button)\n",
        "timetable_page = driver.find_element('xpath',Xpath_of_timetable_button).get_property(\"href\")"
      ]
    },
    {
      "cell_type": "code",
      "execution_count": 11,
      "metadata": {
        "id": "aHWRmY0uP4hU"
      },
      "outputs": [],
      "source": [
        "driver.get(timetable_page)"
      ]
    },
    {
      "cell_type": "markdown",
      "metadata": {
        "id": "s5s9WJwlBI89"
      },
      "source": [
        "# Web Scraping : Read the class timetable"
      ]
    },
    {
      "cell_type": "code",
      "execution_count": 12,
      "metadata": {
        "id": "wrdyS8OF-lA-"
      },
      "outputs": [],
      "source": [
        "from html.parser import HTMLParser\n",
        "\n",
        "class MyHTMLParser(HTMLParser):\n",
        "  def __init__(self):\n",
        "    HTMLParser.__init__(self)\n",
        "    HTMLParser.unwanted_tag = ['div','i','a','br']\n",
        "    HTMLParser.lectuteInWeek = []\n",
        "    HTMLParser.day = 0\n",
        "\n",
        "  def GetLectuteInWeek(self, HTMLtext):\n",
        "    for i in range(0,7):\n",
        "      HTMLParser.lectuteInWeek.append([])\n",
        "      parser.feed(HTMLtext[i])\n",
        "      HTMLParser.day += 1\n",
        "    return HTMLParser.lectuteInWeek\n",
        "  \n",
        "  def handle_data(self, data):\n",
        "    HTMLParser.lectuteInWeek[HTMLParser.day].append(data)"
      ]
    },
    {
      "cell_type": "code",
      "execution_count": 13,
      "metadata": {
        "id": "GC6QN2Y2S9h8"
      },
      "outputs": [],
      "source": [
        "parser = MyHTMLParser()"
      ]
    },
    {
      "cell_type": "code",
      "execution_count": 14,
      "metadata": {
        "id": "cwmJZjEIMyDs"
      },
      "outputs": [],
      "source": [
        "Xpath_of_search_box = '//*[@id=\"search\"]'\n",
        "Xpath_of_search_submit_button = '//*[@id=\"ttView\"]/div/div[2]/div/input'\n",
        "Xpath_of_View_detail_button = '//*[@id=\"timetables\"]/table/tbody/tr[1]/td[5]/nav/div/a'\n",
        "\n",
        "def searching(classroom) :\n",
        "  driver.get(timetable_page)\n",
        "  driver.find_element('xpath',Xpath_of_search_box).clear()\n",
        "  driver.find_element('xpath',Xpath_of_search_box).send_keys(classroom)\n",
        "  driver.find_element('xpath',Xpath_of_search_submit_button).submit()\n",
        "  driver.find_element('xpath',Xpath_of_View_detail_button).click()\n",
        "\n",
        "def scaping():\n",
        "  lecture = []\n",
        "  for i in range(0,7):\n",
        "    get_div = driver.find_element('xpath','//*[@id=\"ttWrapper\"]/table/tbody/tr[2]/td[' + str(i+2) + ']')\n",
        "    lecture.append(get_div.get_attribute('innerHTML'))\n",
        "  parser = MyHTMLParser()\n",
        "  lectureInWeek = parser.GetLectuteInWeek(lecture)\n",
        "  return lectureInWeek"
      ]
    },
    {
      "cell_type": "markdown",
      "metadata": {
        "id": "frjy5dcCLlJ2"
      },
      "source": [
        "# Analyse Data"
      ]
    },
    {
      "cell_type": "code",
      "execution_count": 15,
      "metadata": {
        "id": "9Bj3nJnQleVR"
      },
      "outputs": [],
      "source": [
        "from googleapiclient.discovery import build\n",
        "from datetime import datetime, timedelta"
      ]
    },
    {
      "cell_type": "code",
      "execution_count": 16,
      "metadata": {
        "id": "lObAPU6lNV9m"
      },
      "outputs": [],
      "source": [
        "class lecture:\n",
        "  def __init__(self, day=-1 , start=-1, end=-1, subject=\"none\"):\n",
        "    self.day = day\n",
        "    self.start = start\n",
        "    self.end = end\n",
        "    self.subject = subject\n",
        "\n",
        "# datatime weekday() : mon = 0 ... sun = 6\n",
        "# we will map to sun = 0 ... sat = 6 that we scaping from previous function\n",
        "# set timenow to sunday of the week\n",
        "\n",
        "timenow = datetime.utcnow() + timedelta(hours=7)\n",
        "timenow = timenow + timedelta(days = 0) \n",
        "if(timenow.weekday() != 6) : \n",
        "  timenow = timenow + timedelta(days= - (timenow.weekday()+ 1)   )\n",
        "timenow = datetime(timenow.year, timenow.month, timenow.day)"
      ]
    },
    {
      "cell_type": "code",
      "execution_count": 17,
      "metadata": {
        "id": "LmdeQlckaPN3"
      },
      "outputs": [],
      "source": [
        "def getTime(dayInWeek, start, end):\n",
        "  startTime = timenow + timedelta(days = dayInWeek) + timedelta(hours=int(start[0:2])) + timedelta(minutes=int(start[3:5]))\n",
        "  endTime = timenow + timedelta(days = dayInWeek) + timedelta(hours=int(end[0:2])) + timedelta(minutes=int(end[3:5]))\n",
        "  return startTime, endTime"
      ]
    },
    {
      "cell_type": "code",
      "execution_count": 18,
      "metadata": {
        "id": "jR86FTfpspUP"
      },
      "outputs": [],
      "source": [
        "subjectName = [\"ESC\", \"COM\" , \"KOS\" , \"AUT\", \"BIO\", \"ACT\"]\n",
        "subjectNameSpace = [\"ESC \", \"COM \" , \"KOS \" , \"AUT \", \"BIO \", \"ACT \"]"
      ]
    },
    {
      "cell_type": "code",
      "execution_count": 42,
      "metadata": {
        "id": "SYYwrTuIMrh-"
      },
      "outputs": [],
      "source": [
        "def analyseLecture(exampleOfLecture) :\n",
        "  lectureData = []\n",
        "  for dayInWeek in range(0,7):\n",
        "    temp = exampleOfLecture[dayInWeek].copy()\n",
        "    i=0\n",
        "    while i< len(temp): \n",
        "      subject = \"sample\"\n",
        "      className =  \"sample\"\n",
        "      \n",
        "      # School Close\n",
        "      if temp[i] == \"School Closed\":\n",
        "        startTime, endTime = getTime(dayInWeek, \"08:00\", \"16:00\")\n",
        "        lectureData.append(lecture(dayInWeek, startTime,endTime, \"School Closed\"))\n",
        "        i=i+1\n",
        "        continue\n",
        "      \n",
        "      # M6 Elective subject (7XX)\n",
        "      if (temp[i][0:4] == \"ESC7\"):  \n",
        "        subject = temp[i]\n",
        "        className = \"วิชาเลือก\"\n",
        "\n",
        "      # Common class\n",
        "      if (temp[i][0:4] in subjectNameSpace and temp[i][0:5] != \"ESC 7\"):  \n",
        "        subject = temp[i][0:3] + temp[i][4:7]\n",
        "\n",
        "        # class name\n",
        "        if ( i == len(temp)-1 or (temp[i+1][0:3] in subjectName)) :\n",
        "          className = \"\"\n",
        "        else :\n",
        "          className = temp[i+1]\n",
        "\n",
        "      # get time\n",
        "      try :    ## Check if this value NOT the class name\n",
        "        timeIndex = temp.index(subject) +1 \n",
        "        time = temp[timeIndex]\n",
        "        start = time[0:5]\n",
        "        end = time[-5:]\n",
        "        startTime, endTime = getTime(dayInWeek, start, end)\n",
        "      except :\n",
        "        i=i+1\n",
        "        continue\n",
        "    \n",
        "      #append data\n",
        "      lectureData.append(lecture(dayInWeek,startTime,endTime,subject+\" \"+className))\n",
        "\n",
        "      # remove read class\n",
        "      temp.remove(subject)\n",
        "      temp.remove(time)\n",
        "\n",
        "      #noname class not have class name, index will be -1\n",
        "      if(className == \"\"):\n",
        "        i=i-1\n",
        "\n",
        "      continue\n",
        "  return lectureData"
      ]
    },
    {
      "cell_type": "markdown",
      "metadata": {
        "id": "4QX-0nS9g3z4"
      },
      "source": [
        "# google calendar function\n",
        "using OAuth 2.0 Client IDs : \"Desktop type\"\n",
        "\n",
        "OAuth consent screen : Internal, but add testing user\n",
        "\n",
        "date 2023/02/05"
      ]
    },
    {
      "cell_type": "code",
      "execution_count": 20,
      "metadata": {
        "id": "CDk7oRBQd__l"
      },
      "outputs": [],
      "source": [
        "import pickle\n",
        "from apiclient.discovery import build\n",
        "# from googleapiclient.discovery import apiclient, gflags, httplib2, oauth2client, uritemplate\n",
        "from google_auth_oauthlib.flow import InstalledAppFlow"
      ]
    },
    {
      "cell_type": "code",
      "execution_count": 21,
      "metadata": {
        "id": "95IeAs8HE3sX"
      },
      "outputs": [],
      "source": [
        "# # OAuth API register\n",
        "# scopes = ['https://www.googleapis.com/auth/calendar']\n",
        "# flow = InstalledAppFlow.from_client_secrets_file(\"desktop.json\", scopes=scopes)\n",
        "# credentials = flow.run_console()\n",
        "# pickle.dump(credentials, open(\"token.pkl\", \"wb\"))"
      ]
    },
    {
      "cell_type": "code",
      "execution_count": 22,
      "metadata": {
        "id": "KKg0lYHNd0Xc"
      },
      "outputs": [],
      "source": [
        "credentials = pickle.load(open(\"token.pkl\", \"rb\"))\n",
        "service = build(\"calendar\", \"v3\", credentials=credentials)"
      ]
    },
    {
      "cell_type": "code",
      "execution_count": 23,
      "metadata": {
        "id": "I_CnOLFHVqqt"
      },
      "outputs": [],
      "source": [
        "## Update google calendar\n",
        "API_KEY = '30068550143-uf6kotbrq4drn4903sh5pt1fnnqrjdk9.apps.googleusercontent.com' # API Key or Client ID (obtained from Google API Console)\n",
        "CALENDAR_ID = 'c_6faf67346f38b30af4ae5e19ae9193da8135068afc9003d191ef17aae1fdf30c@group.calendar.google.com' # Calendar ID (can be found in the calendar's settings)\n",
        "\n",
        "def add_event_to_calendar(CALENDAR_ID, event_summary, event_start_time, event_end_time):\n",
        "    #service = build(\"calendar\", \"v3\", credentials=credentials)\n",
        "    # service = build('calendar', 'v3', developerKey=API_KEY)\n",
        "\n",
        "    # Event details\n",
        "    event = {\n",
        "      'summary': event_summary,\n",
        "      'description': \"updated : \"+ str(datetime.utcnow().strftime('%Y-%m-%dT%H:%M:%S')),\n",
        "      'start': {\n",
        "        'dateTime': event_start_time.strftime('%Y-%m-%dT%H:%M:%S'),\n",
        "        'timeZone': 'Asia/Bangkok',\n",
        "      },\n",
        "      'end': {\n",
        "        'dateTime': event_end_time.strftime('%Y-%m-%dT%H:%M:%S'),\n",
        "        'timeZone': 'Asia/Bangkok',\n",
        "      },\n",
        "    }\n",
        "\n",
        "    # Call the Calendar API to add the event\n",
        "    event = service.events().insert(calendarId=CALENDAR_ID, body=event).execute()"
      ]
    },
    {
      "cell_type": "code",
      "execution_count": 24,
      "metadata": {
        "id": "IL4dLu2R1IT8"
      },
      "outputs": [],
      "source": [
        "def clearEvent(CALENDAR_ID):\n",
        "  page_token = None\n",
        "  while True:\n",
        "    events = service.events().list(calendarId=CALENDAR_ID, pageToken=page_token).execute()\n",
        "    for event in events['items']:\n",
        "      service.events().delete(calendarId=CALENDAR_ID, eventId=event[\"id\"]).execute()\n",
        "    page_token = events.get('nextPageToken')\n",
        "    if not page_token:\n",
        "      break"
      ]
    },
    {
      "cell_type": "markdown",
      "metadata": {
        "id": "ir6lRYIhmfes"
      },
      "source": [
        "# Working Space"
      ]
    },
    {
      "cell_type": "code",
      "execution_count": 36,
      "metadata": {
        "id": "MU0222IGnqnc"
      },
      "outputs": [],
      "source": [
        "ESCK_Class = ['0','4E','4S','4C','5E','5S','5C','6E','6S','6C','AU1/1','AU1/2','BI1/1','BI1/2','AU2/1','AU2/2','AU3/1']\n",
        "calendar_id ={\n",
        "    '0' : \"c_d5994bab2b3132f0a88faf6dbfea1dc7d0be8b483e70f19a77484426fc91c58d@group.calendar.google.com\",\n",
        "    '4E' : \"c_7493eafab5255a71d0f49cdf93fe528a6601e79fe11cf1c0cf7a437af67f6125@group.calendar.google.com\",\n",
        "    '4S' : \"c_92d7fdce936e171e0dfe52f707f3b94bfcd960bc3d1ca3a3225fc8baa3f4744c@group.calendar.google.com\",\n",
        "    '4C' : \"c_1e366f9adb792570cbc8bef95598e778198759504ed7de4908c4e9fcb41ae643@group.calendar.google.com\",\n",
        "    '5E' : \"c_bd5ea29ccaa8769077af807117c6c5f09c782c8095a96e0eefe4a095610925a1@group.calendar.google.com\",\n",
        "    '5S' : \"c_73399ff64a3cf9502c8f5b89b524ddcfedb5964eca2f3880c479c89cf536d1d1@group.calendar.google.com\",\n",
        "    '5C' : \"c_e6cc713d9a9040a17a623f86d905dd608e9aa23a47f2b6f0590a2ceeb069604f@group.calendar.google.com\",\n",
        "    '6E' : \"c_02610126a1fd11d5d0f8240243ff52c8aafd128e7820d912bc268eb4b3cd28f8@group.calendar.google.com\",\n",
        "    '6S' : \"c_8235ec98b028aad723711a32525d0578acadf19ea40de1653d3b0a6d44f8d175@group.calendar.google.com\",\n",
        "    '6C' : \"c_448a21fe4dd324045fcfaa4f25396637576dc645ebab2979d3fef73db3de55ba@group.calendar.google.com\",\n",
        "    'AU1/1' : \"c_914ef073785f1cbc74f47ad5e6990d8bcb2c3663aa36ebb8d9031e07c53ed8ea@group.calendar.google.com\",\n",
        "    'AU1/2' : \"c_e1234ed912194e720941b8a123d72c296d3919330d499f1538ac2879b1f4a365@group.calendar.google.com\",\n",
        "    'BI1/1' : \"c_7dc6deb2cb1a7286a292d1a2ae0bde82113f124a8c40d9e4087dd21e0454b986@group.calendar.google.com\",\n",
        "    'BI1/2' : \"c_8c8079ed4f30c624706df907dbd75242723f6ff1fe7bdf6df3549751bea00bd8@group.calendar.google.com\",\n",
        "    'AU2/1' : \"c_c3e9a8af6d25d88b7b46315d88dcbd78e65dc380b0fa511843ab0853ad75e035@group.calendar.google.com\",\n",
        "    'AU2/2' : \"c_0f1adff9571a848e59f10f7d3b35b30e2991e0bfe7acc498d7e859a36ab61666@group.calendar.google.com\",\n",
        "    'AU3/1' : \"c_4f1f4688a5c90c9dc37d4355e56893d069e14c7ead8e7647e8b39d842f41d9ed@group.calendar.google.com\"\n",
        "}"
      ]
    },
    {
      "cell_type": "code",
      "execution_count": 26,
      "metadata": {
        "id": "inDLSlThvFtN"
      },
      "outputs": [],
      "source": [
        "def GIBBIN()  :\n",
        "  for classroom in ESCK_Class :\n",
        "    searching(classroom)   #goToPages\n",
        "    CALENDAR_ID = calendar_id[classroom]\n",
        "    exampleOfLecture = scaping()  #getData\n",
        "    analysedLecture = analyseLecture(exampleOfLecture) #analyseData to day / str /end / subject\n",
        "    service = build(\"calendar\", \"v3\", credentials=credentials)\n",
        "    clearEvent(CALENDAR_ID)\n",
        "    for item in analysedLecture:\n",
        "      add_event_to_calendar(CALENDAR_ID,item.subject, item.start, item.end)\n",
        "    print(\"DONE \"+classroom)"
      ]
    },
    {
      "cell_type": "code",
      "execution_count": null,
      "metadata": {
        "id": "BC5F5xuxBdJ5"
      },
      "outputs": [],
      "source": [
        "attempts = 0\n",
        "success = False\n",
        "while attempts < 4 and not success:\n",
        "    try:\n",
        "        GIBBIN()\n",
        "        success = True\n",
        "    except:\n",
        "        attempts += 1\n",
        "        if attempts == 4:\n",
        "            break\n",
        "\n",
        "        try :\n",
        "          driver = webdriver.Chrome(service=Service(ChromeDriverManager().install()),options=options)\n",
        "        except :\n",
        "          driver = webdriver.Chrome(\"/usr/bin/chromedriver\", options=options)\n",
        "        \n",
        "        driver.get(destination)\n",
        "\n",
        "        username_input = driver.find_element(\"xpath\",X_path_login_username)\n",
        "        username_input.send_keys(gibbon_username)\n",
        "\n",
        "        password_input = driver.find_element(\"xpath\",X_path_login_password)\n",
        "        password_input.send_keys(gibbon_password)\n",
        "\n",
        "        login_box = driver.find_element(\"xpath\",X_path_login_submitButton)\n",
        "        login_box.submit()"
      ]
    },
    {
      "cell_type": "markdown",
      "metadata": {
        "id": "W_dw4MAbA8vq"
      },
      "source": [
        "## Lab"
      ]
    },
    {
      "cell_type": "code",
      "execution_count": 32,
      "metadata": {
        "colab": {
          "base_uri": "https://localhost:8080/"
        },
        "id": "QBI6HCin_OSh",
        "outputId": "f567ab34-0162-49fa-82c4-e95f30fea2ff"
      },
      "outputs": [
        {
          "name": "stderr",
          "output_type": "stream",
          "text": [
            "<ipython-input-32-fef363487a6f>:4: DeprecationWarning: executable_path has been deprecated, please pass in a Service object\n",
            "  driver = webdriver.Chrome(\"/usr/bin/chromedriver\", options=options)\n"
          ]
        }
      ],
      "source": [
        "try :\n",
        "  driver = webdriver.Chrome(service=Service(ChromeDriverManager().install()),options=options)\n",
        "except :\n",
        "  driver = webdriver.Chrome(\"/usr/bin/chromedriver\", options=options)\n",
        "\n",
        "driver.get(destination)\n",
        "\n",
        "username_input = driver.find_element(\"xpath\",X_path_login_username)\n",
        "username_input.send_keys(gibbon_username)\n",
        "\n",
        "password_input = driver.find_element(\"xpath\",X_path_login_password)\n",
        "password_input.send_keys(gibbon_password)\n",
        "\n",
        "login_box = driver.find_element(\"xpath\",X_path_login_submitButton)\n",
        "login_box.submit()"
      ]
    },
    {
      "cell_type": "code",
      "execution_count": null,
      "metadata": {
        "id": "9rGfMfGiAida"
      },
      "outputs": [],
      "source": [
        "ESCK_Class = ['4E','4S','4C','5E','5S','5C','6E','6S','6C','AU1/1','AU1/2','BI1/1','BI1/2','AU2/1','AU2/2','AU3/1']\n",
        "for classroom in ESCK_Class :\n",
        "    searching(classroom)   #goToPages\n",
        "    CALENDAR_ID = calendar_id[classroom]\n",
        "    exampleOfLecture = scaping()  #getData\n",
        "    analysedLecture = analyseLecture(exampleOfLecture) #analyseData to day / str /end / subject\n",
        "    service = build(\"calendar\", \"v3\", credentials=credentials)\n",
        "    clearEvent(CALENDAR_ID)\n",
        "    for item in analysedLecture:\n",
        "      print(item.subject, item.start, item.end)\n",
        "    for item in analysedLecture:\n",
        "      add_event_to_calendar(CALENDAR_ID,item.subject, item.start, item.end)\n",
        "    print(\"DONE \"+classroom)"
      ]
    }
  ],
  "metadata": {
    "colab": {
      "collapsed_sections": [
        "rebYpD29KYSD",
        "4QX-0nS9g3z4"
      ],
      "provenance": []
    },
    "gpuClass": "standard",
    "kernelspec": {
      "display_name": "Python 3",
      "name": "python3"
    },
    "language_info": {
      "name": "python"
    }
  },
  "nbformat": 4,
  "nbformat_minor": 0
}
